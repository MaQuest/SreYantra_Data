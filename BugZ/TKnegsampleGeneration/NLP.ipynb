{
 "cells": [
  {
   "cell_type": "code",
   "execution_count": 10,
   "metadata": {},
   "outputs": [],
   "source": [
    "import pandas as pd\n",
    "import re\n",
    "import numpy as np\n",
    "import utilities as util\n",
    "import nlp as nlp\n",
    "import importlib\n",
    "import seaborn as sns\n",
    "from sklearn.feature_extraction.text import CountVectorizer,TfidfTransformer\n",
    "from sklearn.ensemble import RandomForestClassifier\n",
    "from sklearn.svm import SVC\n",
    "from sklearn.naive_bayes import MultinomialNB\n",
    "from sklearn.model_selection import cross_val_score,train_test_split, StratifiedKFold\n",
    "from sklearn.metrics import f1_score,precision_score,recall_score,confusion_matrix,classification_report\n",
    "from textblob import TextBlob\n",
    "import matplotlib.pyplot as plt\n",
    "\n",
    "from nltk.util import ngrams\n",
    "from nltk.corpus import wordnet as wn\n",
    "from nltk import word_tokenize\n",
    "from nltk.collocations import *"
   ]
  },
  {
   "cell_type": "code",
   "execution_count": 11,
   "metadata": {},
   "outputs": [
    {
     "name": "stdout",
     "output_type": "stream",
     "text": [
      "[nltk_data] Downloading package stopwords to\n",
      "[nltk_data]     C:\\Users\\teddy\\AppData\\Roaming\\nltk_data...\n",
      "[nltk_data]   Unzipping corpora\\stopwords.zip.\n"
     ]
    },
    {
     "data": {
      "text/plain": [
       "<module 'nlp' from 'C:\\\\Users\\\\teddy\\\\Documents\\\\Research Project\\\\SreYantra_Data\\\\BugZ\\\\TKnegsampleGeneration\\\\nlp.py'>"
      ]
     },
     "execution_count": 11,
     "metadata": {},
     "output_type": "execute_result"
    }
   ],
   "source": [
    "importlib.reload(util)\n",
    "importlib.reload(nlp)"
   ]
  },
  {
   "cell_type": "code",
   "execution_count": null,
   "metadata": {},
   "outputs": [],
   "source": [
    "nouns = [\"NN\",\"NNS\",\"NNP\",\"NNPS\"]\n",
    "ads = [\"JJ\",\"JJR\",\"JJS\"]"
   ]
  },
  {
   "cell_type": "code",
   "execution_count": null,
   "metadata": {},
   "outputs": [],
   "source": [
    "data = pd.read_csv(\"Teddy_Data/AllData.csv\", low_memory = False)"
   ]
  },
  {
   "cell_type": "code",
   "execution_count": null,
   "metadata": {},
   "outputs": [],
   "source": [
    "reqs = data[\"summary\"]"
   ]
  },
  {
   "cell_type": "code",
   "execution_count": null,
   "metadata": {},
   "outputs": [],
   "source": [
    "nlp_df = pd.DataFrame(columns = [\"req orig\", \"req bigram\", \"req trigram\"])"
   ]
  },
  {
   "cell_type": "code",
   "execution_count": null,
   "metadata": {},
   "outputs": [],
   "source": [
    "for index, value in reqs.items():\n",
    "    ## generate the bigram\n",
    "    tokens = util.generate_tokens(value)\n",
    "    bigram = util.generate_collated_ngrams(tokens,2)\n",
    "    trigram = util.generate_collated_ngrams(tokens,3)\n",
    "    result = {\"req orig\": value,\n",
    "             \"req bigram\": bigram,\n",
    "             \"req trigram\": trigram}\n",
    "    nlp_df = nlp_df.append(result, ignore_index = True)"
   ]
  },
  {
   "cell_type": "code",
   "execution_count": null,
   "metadata": {},
   "outputs": [],
   "source": []
  },
  {
   "cell_type": "code",
   "execution_count": 12,
   "metadata": {},
   "outputs": [
    {
     "data": {
      "text/plain": [
       "['h',\n",
       " 'e',\n",
       " ' ',\n",
       " 'c',\n",
       " 'n',\n",
       " 'u',\n",
       " 'n',\n",
       " 'l',\n",
       " ' ',\n",
       " 'c',\n",
       " 'n',\n",
       " 'r',\n",
       " 'n',\n",
       " ' ',\n",
       " 'h',\n",
       " 'e',\n",
       " ' ',\n",
       " 'b',\n",
       " 'r',\n",
       " 'g',\n",
       " 'n',\n",
       " ' ',\n",
       " 'n',\n",
       " ' ',\n",
       " 'e',\n",
       " 'q',\n",
       " 'u',\n",
       " 'l',\n",
       " ' ',\n",
       " 'g',\n",
       " 'r',\n",
       " ' ',\n",
       " 'g',\n",
       " 'u',\n",
       " ' ',\n",
       " ' ',\n",
       " 'c',\n",
       " 'r',\n",
       " 'l',\n",
       " 'l',\n",
       " ' ',\n",
       " ' ',\n",
       " 'c',\n",
       " 'l',\n",
       " 'h',\n",
       " ' ',\n",
       " 'p',\n",
       " 'p',\n",
       " ' ',\n",
       " 'b',\n",
       " 'e',\n",
       " 'n',\n",
       " 'e',\n",
       " 'h',\n",
       " ' ',\n",
       " 'h',\n",
       " 'e',\n",
       " ' ',\n",
       " 'c',\n",
       " 'l',\n",
       " 'u',\n",
       " 'b',\n",
       " ' ',\n",
       " 'h',\n",
       " 'e',\n",
       " ' ',\n",
       " 'c',\n",
       " 'p',\n",
       " 'n',\n",
       " ' ',\n",
       " 'c',\n",
       " 'p',\n",
       " ' ',\n",
       " 'e',\n",
       " 'c',\n",
       " 'h',\n",
       " ' ',\n",
       " 'n',\n",
       " ' ',\n",
       " 'n',\n",
       " ' ',\n",
       " 'g',\n",
       " 'r',\n",
       " 'u',\n",
       " 'e',\n",
       " ' ',\n",
       " 'b',\n",
       " 'e',\n",
       " 'h',\n",
       " 'n',\n",
       " ' ',\n",
       " 'h',\n",
       " 'e',\n",
       " ' ',\n",
       " 'f',\n",
       " 'f',\n",
       " ' ',\n",
       " 'p',\n",
       " 'h',\n",
       " ' ',\n",
       " 'h',\n",
       " 'e',\n",
       " ' ',\n",
       " 'e',\n",
       " 'g',\n",
       " ' ',\n",
       " 'n',\n",
       " 'e',\n",
       " ' ',\n",
       " 'h',\n",
       " 'r',\n",
       " 'u',\n",
       " 'g',\n",
       " 'h',\n",
       " 'u',\n",
       " ' ',\n",
       " ' ',\n",
       " 'c']"
      ]
     },
     "execution_count": 12,
     "metadata": {},
     "output_type": "execute_result"
    }
   ],
   "source": [
    "text = \"The constitutional constrains the bargain. An equal diagram guts a scroll. A cloth pops beneath the club! The captain camps. Each tiny man graduates behind the stiff sympathy. The ego dines throughout a mimic.\"\n",
    "#col = util.generate_collated_ngrams(tokens,3)\n",
    "\n",
    "nlp.normalize(text)\n",
    "\n",
    "\n"
   ]
  },
  {
   "cell_type": "code",
   "execution_count": null,
   "metadata": {},
   "outputs": [],
   "source": [
    "output"
   ]
  },
  {
   "cell_type": "code",
   "execution_count": null,
   "metadata": {},
   "outputs": [],
   "source": [
    "bigrams = []\n",
    "for bigram in output:\n",
    "    if ((bigram[0][1] in nouns or bigram[0][1] in ads) and (bigram[1][1] in nouns)):\n",
    "        bigrams.append((bigram[0][0],bigram[1][0]))"
   ]
  },
  {
   "cell_type": "code",
   "execution_count": null,
   "metadata": {},
   "outputs": [],
   "source": []
  }
 ],
 "metadata": {
  "kernelspec": {
   "display_name": "Python 3",
   "language": "python",
   "name": "python3"
  },
  "language_info": {
   "codemirror_mode": {
    "name": "ipython",
    "version": 3
   },
   "file_extension": ".py",
   "mimetype": "text/x-python",
   "name": "python",
   "nbconvert_exporter": "python",
   "pygments_lexer": "ipython3",
   "version": "3.6.5"
  }
 },
 "nbformat": 4,
 "nbformat_minor": 2
}
