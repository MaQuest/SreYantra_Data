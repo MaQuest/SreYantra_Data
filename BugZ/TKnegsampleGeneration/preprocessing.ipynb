{
 "cells": [
  {
   "cell_type": "code",
   "execution_count": null,
   "metadata": {},
   "outputs": [],
   "source": [
    "import pandas as pd\n",
    "import numpy as np\n",
    "import matplotlib.pyplot as plt\n",
    "import random\n",
    "\n",
    "DEPENDENT_DATA = \"./AllData.csv\"\n",
    "INDEPENDENT_DATA = \"AllIndependentData.csv\"\n",
    "DEPENDENT_PAIRS = \"Release_Level1PairsReadyData.csv\"\n",
    "DEPENDENT_PAIRS2 = \"Release_Level2PairsReadyData.csv\"\n",
    "INDEPENDENT_PAIRS = \"negSamplePairs.csv\""
   ]
  },
  {
   "cell_type": "markdown",
   "metadata": {},
   "source": [
    "# Reading the data"
   ]
  },
  {
   "cell_type": "code",
   "execution_count": null,
   "metadata": {},
   "outputs": [],
   "source": [
    "df_d = pd.read_csv(DEPENDENT_DATA, low_memory=False)\n",
    "df_i = pd.read_csv(INDEPENDENT_DATA)\n",
    "df_dp = pd.read_csv(DEPENDENT_PAIRS)\n",
    "df_dp2 = pd.read_csv(DEPENDENT_PAIRS2)\n",
    "df_ip = pd.read_csv(INDEPENDENT_PAIRS)\n",
    "\n",
    "df_dp = df_dp.append(df_dp2)"
   ]
  },
  {
   "cell_type": "markdown",
   "metadata": {},
   "source": [
    "### Printing out some initial Statistics"
   ]
  },
  {
   "cell_type": "code",
   "execution_count": null,
   "metadata": {},
   "outputs": [],
   "source": [
    "print(\"Total amount of data points for dependent requirements: {}\".format(len(df_d)))\n",
    "print(\"Total amount of data points for indepedent requirements: {}\".format(len(df_i)))\n",
    "print(\"Total amount of data points for dependent pairs: {}\".format(len(df_dp)))\n",
    "print(\"Total amount of data points for independent pairs: {}\".format(len(df_ip)))\n",
    "\n",
    "print(\"Total amount of \\'duplicate data\\' points: \" + str(len(df_d[df_d[\"duplicates\"].notnull()])))"
   ]
  },
  {
   "cell_type": "markdown",
   "metadata": {},
   "source": [
    "## Some more preprocessing "
   ]
  },
  {
   "cell_type": "code",
   "execution_count": null,
   "metadata": {},
   "outputs": [],
   "source": [
    "## only looking at requirements that contain enhancements\n",
    "df_i = df_i[df_i[\"type\"] == \"enhancement\"]"
   ]
  },
  {
   "cell_type": "markdown",
   "metadata": {},
   "source": [
    "# Independent statistics"
   ]
  },
  {
   "cell_type": "code",
   "execution_count": null,
   "metadata": {},
   "outputs": [],
   "source": [
    "#american = df['nationality'] == \"USA\"\n",
    "#df[df['first_name'].notnull() & (df['nationality'] == \"USA\")]"
   ]
  },
  {
   "cell_type": "markdown",
   "metadata": {},
   "source": [
    "### Plot showing the product variation of dependent requirments"
   ]
  },
  {
   "cell_type": "code",
   "execution_count": null,
   "metadata": {},
   "outputs": [],
   "source": [
    "ig, ax = plt.subplots()\n",
    "df_i['product'].value_counts().plot(ax=ax, kind='bar', figsize = (20,10), title = \"Product count for Independent Requirements\")"
   ]
  },
  {
   "cell_type": "markdown",
   "metadata": {},
   "source": [
    "### Showing counts of columns \"type\", \"count\", \"priority\", \"classification\""
   ]
  },
  {
   "cell_type": "code",
   "execution_count": null,
   "metadata": {},
   "outputs": [],
   "source": [
    "total_records = len(df_i)\n",
    "\n",
    "type_count = df_i['type'].value_counts(normalize = True) \n",
    "product_count = df_i[\"product\"].value_counts(normalize = True)\n",
    "priority_count = df_i[\"priority\"].value_counts(normalize = True)\n",
    "classification_count = df_i[\"classification\"].value_counts(normalize = True) \n",
    "\n",
    "print(\"Product Count\")\n",
    "print(product_count)\n",
    "print(\"---------------------------\")\n",
    "print(\"Priority Count\")\n",
    "print(priority_count)\n",
    "print(\"---------------------------\")\n",
    "print(\"Classification Count\")\n",
    "print(classification_count)\n",
    "print(\"---------------------------\")"
   ]
  },
  {
   "cell_type": "markdown",
   "metadata": {},
   "source": [
    "# Dependent statistics"
   ]
  },
  {
   "cell_type": "markdown",
   "metadata": {},
   "source": [
    "### Plot showing the product variation of dependent requirments"
   ]
  },
  {
   "cell_type": "code",
   "execution_count": null,
   "metadata": {},
   "outputs": [],
   "source": [
    "ig, ax = plt.subplots()\n",
    "df_d['product'].value_counts().plot(ax=ax, kind='bar', figsize = (20,10), title = \"Product count for Dependent Requirements\")"
   ]
  },
  {
   "cell_type": "markdown",
   "metadata": {},
   "source": [
    "### Showing counts of columns \"type\", \"count\", \"priority\", \"classification\""
   ]
  },
  {
   "cell_type": "code",
   "execution_count": null,
   "metadata": {},
   "outputs": [],
   "source": [
    "total_records = len(df_d)\n",
    "\n",
    "type_count = df_d['type'].value_counts(normalize = True)\n",
    "product_count = df_d[\"product\"].value_counts(normalize = True)\n",
    "priority_count = df_d[\"priority\"].value_counts(normalize = True)\n",
    "classification_count = df_d[\"classification\"].value_counts(normalize = True)\n",
    "\n",
    "\n",
    "print(\"Type Count\")\n",
    "print(type_count)\n",
    "print(\"---------------------------\")\n",
    "print(\"Product Count\")\n",
    "print(product_count)\n",
    "print(\"---------------------------\")\n",
    "print(\"Priority Count\")\n",
    "print(priority_count)\n",
    "print(\"---------------------------\")\n",
    "print(\"Classification Count\")\n",
    "print(classification_count)\n",
    "print(\"---------------------------\")\n"
   ]
  },
  {
   "cell_type": "markdown",
   "metadata": {},
   "source": [
    "### Counting the amount of duplicates"
   ]
  },
  {
   "cell_type": "code",
   "execution_count": null,
   "metadata": {},
   "outputs": [],
   "source": [
    "len(df_d[df_d[\"duplicates\"].notnull()]) / total_records"
   ]
  },
  {
   "cell_type": "markdown",
   "metadata": {},
   "source": [
    "### Finding cross-project requirement interdepencies"
   ]
  },
  {
   "cell_type": "code",
   "execution_count": null,
   "metadata": {},
   "outputs": [],
   "source": [
    "cross_project = ((len(df_dp[df_dp[\"req1Product\"] != df_dp[\"req2Product\"]])) / len(df_dp)) * 100\n",
    "\n",
    "print(\"The amount of cross_project dependencies is {:.2f}%\".format(cross_project))"
   ]
  },
  {
   "cell_type": "markdown",
   "metadata": {},
   "source": [
    "### Measure the length of the description of the requirements"
   ]
  },
  {
   "cell_type": "code",
   "execution_count": null,
   "metadata": {},
   "outputs": [],
   "source": [
    "counts = []\n",
    "for index, row in df_d.iterrows():\n",
    "    counts.append(len(row[\"summary\"].split(\" \")))\n",
    "\n",
    "\n",
    "counts_pd = pd.Series(counts)\n",
    "df_d[\"summary_values\"] = counts_pd"
   ]
  },
  {
   "cell_type": "code",
   "execution_count": null,
   "metadata": {},
   "outputs": [],
   "source": [
    "unique_products = df_d[\"product\"].unique()\n",
    "\n",
    "totals = []\n",
    "\n",
    "total = 0\n",
    "\n",
    "for prod in unique_products:\n",
    "    for index, row in df_d.iterrows():\n",
    "        if row[\"product\"] == prod:\n",
    "            total = total + int(row[\"summary_values\"])\n",
    "    \n",
    "    prod_total = len(df_d[df_d[\"product\"] == prod])\n",
    "    average = total/prod_total\n",
    "    totals.append({prod:\"{:.2f}\".format(average)})\n",
    "    \n",
    "    total = 0  \n",
    "    \n",
    "totals"
   ]
  },
  {
   "cell_type": "markdown",
   "metadata": {},
   "source": [
    "## Dropping columns so that dataframes are the same when we append"
   ]
  },
  {
   "cell_type": "code",
   "execution_count": null,
   "metadata": {},
   "outputs": [],
   "source": [
    "unimportant_columns = [\"req1CreationTime\", \"req2Creation_time\", \"req1Keywords\", \"req2Keywords\", \"req1Class\", \"req2Class\"]\n",
    "df_ip = df_ip.drop(columns = unimportant_columns)"
   ]
  },
  {
   "cell_type": "code",
   "execution_count": null,
   "metadata": {},
   "outputs": [],
   "source": [
    "unimportant_columns = [\"CosSimilarity\", \"SemSimilarity\"]\n",
    "df_dp = df_dp.drop(columns = unimportant_columns)"
   ]
  },
  {
   "cell_type": "markdown",
   "metadata": {},
   "source": [
    "### Only selecting those requirement pairs within the same project"
   ]
  },
  {
   "cell_type": "code",
   "execution_count": null,
   "metadata": {},
   "outputs": [],
   "source": [
    "df_dp = df_dp[df_dp[\"req1Product\"] == df_dp[\"req2Product\"]]\n",
    "df_ip = df_ip[df_ip[\"req1Product\"] == df_ip[\"req2Product\"]]"
   ]
  },
  {
   "cell_type": "markdown",
   "metadata": {},
   "source": [
    "### Adding the independent data set to the dependent data set "
   ]
  },
  {
   "cell_type": "code",
   "execution_count": null,
   "metadata": {},
   "outputs": [],
   "source": [
    "create_full_set = False"
   ]
  },
  {
   "cell_type": "code",
   "execution_count": null,
   "metadata": {},
   "outputs": [],
   "source": [
    "if create_full_set == True:\n",
    "    all_dp = df_dp.copy()\n",
    "    all_ip = df_ip.copy()\n",
    "    indexes_added = []\n",
    "    total_added = 0\n",
    "    total = len(df_dp)\n",
    "    indexes = len(df_ip)\n",
    "\n",
    "    while total_added < total:\n",
    "        index = random.randint(0,indexes)\n",
    "        if index not in indexes_added:\n",
    "            indexes_added.append(index)\n",
    "            all_dp = all_dp.append(df_ip.iloc[index])\n",
    "            total_added = total_added + 1\n",
    "        else:\n",
    "            print(\"Currently at {:.2f}%\".format(total_added/total * 100))\n",
    "\n",
    "\n",
    "    all_dp.to_csv(\"ModelPairs.csv\")"
   ]
  },
  {
   "cell_type": "markdown",
   "metadata": {},
   "source": [
    "# Feature Selection and Processing - Preperation"
   ]
  },
  {
   "cell_type": "code",
   "execution_count": null,
   "metadata": {},
   "outputs": [],
   "source": [
    "all_dp = pd.read_csv(\"ModelPairs.csv\", low_memory = False)"
   ]
  },
  {
   "cell_type": "code",
   "execution_count": null,
   "metadata": {},
   "outputs": [],
   "source": [
    "all_dp.columns"
   ]
  },
  {
   "cell_type": "code",
   "execution_count": null,
   "metadata": {},
   "outputs": [],
   "source": []
  }
 ],
 "metadata": {
  "kernelspec": {
   "display_name": "Python 3",
   "language": "python",
   "name": "python3"
  },
  "language_info": {
   "codemirror_mode": {
    "name": "ipython",
    "version": 3
   },
   "file_extension": ".py",
   "mimetype": "text/x-python",
   "name": "python",
   "nbconvert_exporter": "python",
   "pygments_lexer": "ipython3",
   "version": "3.6.5"
  }
 },
 "nbformat": 4,
 "nbformat_minor": 2
}
