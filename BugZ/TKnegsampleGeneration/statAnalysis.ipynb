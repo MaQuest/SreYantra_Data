{
 "cells": [
  {
   "cell_type": "code",
   "execution_count": null,
   "metadata": {},
   "outputs": [],
   "source": [
    "import pandas as pd\n",
    "import numpy as np\n",
    "import matplotlib.pyplot as plt\n",
    "\n",
    "DEPENDENT_DATA = \"./AllData.csv\"\n",
    "INDEPENDENT_DATA = \"AllIndependentData.csv\"\n",
    "DEPENDENT_PAIRS = \"Level1PairsReadyData.csv\""
   ]
  },
  {
   "cell_type": "markdown",
   "metadata": {},
   "source": [
    "# Some Results"
   ]
  },
  {
   "cell_type": "code",
   "execution_count": null,
   "metadata": {},
   "outputs": [],
   "source": [
    "df_d = pd.read_csv(DEPENDENT_DATA, low_memory=False)\n",
    "df_i = pd.read_csv(INDEPENDENT_DATA)\n",
    "df_dp = pd.read_csv(DEPENDENT_PAIRS)\n",
    "\n",
    "print(\"Total amount of data points for dependent requirements: \" + str(len(df_d)))\n",
    "print(\"Total amount of data points for indepedent requirements: \" + str(len(df_i)))\n",
    "\n",
    "print(\"Total amount of data points for dependent pairs: \" + str(len(df_dp)))\n",
    "print(\"Total amount of \\'blocks\\' data points: \" + str(len(df_d[df_d[\"blocks\"].notnull()])))\n",
    "\n",
    "print(\"Total amount of \\'depends on\\' data points: \" + str(len(df_d[df_d[\"depends_on\"].notnull()])))\n",
    "print(\"Total amount of \\'duplicate data\\' points: \" + str(len(df_d[df_d[\"duplicates\"].notnull()])))\n"
   ]
  },
  {
   "cell_type": "markdown",
   "metadata": {},
   "source": [
    "# Independent \"product\" graph"
   ]
  },
  {
   "cell_type": "code",
   "execution_count": null,
   "metadata": {},
   "outputs": [],
   "source": [
    "total_records = len(df_i)\n",
    "\n",
    "type_count = df_i['type'].value_counts(normalize = True) \n",
    "product_count = df_i[\"product\"].value_counts(normalize = True)\n",
    "priority_count = df_i[\"priority\"].value_counts(normalize = True)\n",
    "classification_count = df_i[\"classification\"].value_counts(normalize = True) \n",
    "\n",
    "\n",
    "print(\"Type Count\")\n",
    "print(type_count)\n",
    "print(\"---------------------------\")\n",
    "print(\"Product Count\")\n",
    "print(product_count)\n",
    "print(\"---------------------------\")\n",
    "print(\"Priority Count\")\n",
    "print(priority_count)\n",
    "print(\"---------------------------\")\n",
    "print(\"Classification Count\")\n",
    "print(classification_count)\n",
    "print(\"---------------------------\")\n",
    "print(\"Multiclass Count\")"
   ]
  },
  {
   "cell_type": "markdown",
   "metadata": {},
   "source": [
    "# Dependent \"product\" graph"
   ]
  },
  {
   "cell_type": "code",
   "execution_count": null,
   "metadata": {},
   "outputs": [],
   "source": [
    "ig, ax = plt.subplots()\n",
    "df_d['product'].value_counts().plot(ax=ax, kind='bar', figsize = (20,10), title = \"Product count for Dependent Requirements\")"
   ]
  },
  {
   "cell_type": "code",
   "execution_count": null,
   "metadata": {},
   "outputs": [],
   "source": [
    "total_records = len(df_d)\n",
    "\n",
    "type_count = df_d['type'].value_counts(normalize = True)\n",
    "product_count = df_d[\"product\"].value_counts(normalize = True)\n",
    "priority_count = df_d[\"priority\"].value_counts(normalize = True)\n",
    "classification_count = df_d[\"classification\"].value_counts(normalize = True)\n",
    "\n",
    "\n",
    "print(\"Type Count\")\n",
    "print(type_count)\n",
    "print(\"---------------------------\")\n",
    "print(\"Product Count\")\n",
    "print(product_count)\n",
    "print(\"---------------------------\")\n",
    "print(\"Priority Count\")\n",
    "print(priority_count)\n",
    "print(\"---------------------------\")\n",
    "print(\"Classification Count\")\n",
    "print(classification_count)\n",
    "print(\"---------------------------\")\n"
   ]
  },
  {
   "cell_type": "code",
   "execution_count": null,
   "metadata": {},
   "outputs": [],
   "source": [
    "len(df_d[df_d[\"duplicates\"].notnull()]) / total_records"
   ]
  },
  {
   "cell_type": "code",
   "execution_count": null,
   "metadata": {},
   "outputs": [],
   "source": []
  }
 ],
 "metadata": {
  "kernelspec": {
   "display_name": "Python 3",
   "language": "python",
   "name": "python3"
  },
  "language_info": {
   "codemirror_mode": {
    "name": "ipython",
    "version": 3
   },
   "file_extension": ".py",
   "mimetype": "text/x-python",
   "name": "python",
   "nbconvert_exporter": "python",
   "pygments_lexer": "ipython3",
   "version": "3.6.5"
  }
 },
 "nbformat": 4,
 "nbformat_minor": 2
}
