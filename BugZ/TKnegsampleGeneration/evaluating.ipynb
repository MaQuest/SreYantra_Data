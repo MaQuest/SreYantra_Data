{
 "cells": [
  {
   "cell_type": "markdown",
   "metadata": {},
   "source": [
    "## Import Packages"
   ]
  },
  {
   "cell_type": "code",
   "execution_count": null,
   "metadata": {},
   "outputs": [],
   "source": [
    "import pandas as pd\n",
    "import numpy as np\n",
    "import matplotlib.pyplot as plt\n",
    "import seaborn as sns"
   ]
  },
  {
   "cell_type": "markdown",
   "metadata": {},
   "source": [
    "### Import Model Predicitons"
   ]
  },
  {
   "cell_type": "code",
   "execution_count": null,
   "metadata": {},
   "outputs": [],
   "source": [
    "df_predictions = pd.read_csv(\"PredictionScores.csv\")\n",
    "df_multiclass_predictions = pd.read_csv(\"PredictionScores_MultiClass.csv\")\n",
    "df_pairs = pd.read_csv(\"ModelPairs.csv\", low_memory = False)"
   ]
  },
  {
   "cell_type": "code",
   "execution_count": null,
   "metadata": {},
   "outputs": [],
   "source": [
    "df_pairs[\"req1Product\"].value_counts().nlargest(n=10, keep='last')"
   ]
  },
  {
   "cell_type": "markdown",
   "metadata": {},
   "source": [
    "### Filter Out Predictions we care about"
   ]
  },
  {
   "cell_type": "code",
   "execution_count": null,
   "metadata": {},
   "outputs": [],
   "source": [
    "df_pairs[\"req1Product\"].value_counts().tail(10)"
   ]
  },
  {
   "cell_type": "code",
   "execution_count": null,
   "metadata": {},
   "outputs": [],
   "source": [
    "most_projects = [\"Core\", \"Firefox\", \"Thunderbird\", \"Bugzilla\", \"Seamonkey\", \"DevTools\", \"MailNews Core\", \"Toolkit\", \"Testing\", \n",
    "            \"Infrastructure & Operations\", \"NSS\"]\n",
    "\n",
    "least_projects = [\"Cloud Services Graveyard\", \"Community Building\", \"Toolkit Graveyard\", \"Penelope Graveyard\", \"Infrastructure & Operations Graveyard\", \"Camino Graveyard\",\n",
    "                 \"Firefox for Android Graveyard\", \"Testing Graveyard\", \"Add-on SDK Graveyard\", \"Web Compatibility\"]\n",
    "\n",
    "x_ticks = [0,0.2,0.4,0.6,0.8,1]"
   ]
  },
  {
   "cell_type": "markdown",
   "metadata": {},
   "source": [
    "### Display Heat Map (Binary Class Predictions)"
   ]
  },
  {
   "cell_type": "code",
   "execution_count": null,
   "metadata": {},
   "outputs": [],
   "source": [
    "filtered_df = df_predictions[df_predictions[\"Train Project\"].isin(most_projects)]\n",
    "filtered_df = filtered_df[filtered_df[\"Test Project\"].isin(most_projects)]\n",
    "filtered_df = filtered_df.replace(\"Infrastructure & Operations\", \"Infra & Ops\")\n",
    "df = filtered_df.pivot(\"Train Project\", \"Test Project\", \"Prediction Score\")\n",
    "ax = sns.heatmap(df,cmap=\"YlGnBu\")\n",
    "ax.set_title(\"Prediction Scores (BinaryClass)\")\n",
    "plt.show()"
   ]
  },
  {
   "cell_type": "code",
   "execution_count": null,
   "metadata": {},
   "outputs": [],
   "source": [
    "filtered_df = df_predictions[df_predictions[\"Train Project\"].isin(least_projects)]\n",
    "filtered_df = filtered_df[filtered_df[\"Test Project\"].isin(least_projects)]\n",
    "filtered_df = filtered_df.replace(\"Infrastructure & Operations\", \"Infra & Ops\")\n",
    "df = filtered_df.pivot(\"Train Project\", \"Test Project\", \"Prediction Score\")\n",
    "ax = sns.heatmap(df,cmap=\"YlGnBu\",cbar_kws={'ticks': [0.0, 0.2, 0.4, 0.6, 0.8, 1.0]})\n",
    "ax.set_title(\"Prediction Scores (BinaryClass)\")\n",
    "plt.show()"
   ]
  },
  {
   "cell_type": "code",
   "execution_count": null,
   "metadata": {},
   "outputs": [],
   "source": [
    "filtered_df = df_predictions[df_predictions[\"Train Project\"].isin(most_projects)]\n",
    "filtered_df = filtered_df[filtered_df[\"Test Project\"].isin(least_projects)]\n",
    "filtered_df = filtered_df.replace(\"Infrastructure & Operations\", \"Infra & Ops\")\n",
    "df = filtered_df.pivot(\"Train Project\", \"Test Project\", \"Prediction Score\")\n",
    "ax = sns.heatmap(df,cmap=\"YlGnBu\")\n",
    "ax.set_title(\"Prediction Scores (BinaryClass)\")\n",
    "plt.show()"
   ]
  },
  {
   "cell_type": "code",
   "execution_count": null,
   "metadata": {},
   "outputs": [],
   "source": [
    "filtered_df = df_predictions[df_predictions[\"Train Project\"].isin(least_projects)]\n",
    "filtered_df = filtered_df[filtered_df[\"Test Project\"].isin(most_projects)]\n",
    "filtered_df = filtered_df.replace(\"Infrastructure & Operations\", \"Infra & Ops\")\n",
    "df = filtered_df.pivot(\"Train Project\", \"Test Project\", \"Prediction Score\")\n",
    "ax = sns.heatmap(df,cmap=\"YlGnBu\")\n",
    "ax.set_title(\"Prediction Scores (BinaryClass)\")\n",
    "plt.show()"
   ]
  },
  {
   "cell_type": "markdown",
   "metadata": {},
   "source": [
    "### Display Heat Map (Multi Class Predictions)"
   ]
  },
  {
   "cell_type": "code",
   "execution_count": null,
   "metadata": {},
   "outputs": [],
   "source": [
    "filtered_df = df_multiclass_predictions[df_multiclass_predictions[\"Train Project\"].isin(projects)]\n",
    "filtered_df = filtered_df[filtered_df[\"Test Project\"].isin(projects)]\n",
    "filtered_df = filtered_df.replace(\"Infrastructure & Operations\", \"Infra & Ops\")\n",
    "df = filtered_df.pivot(\"Train Project\", \"Test Project\", \"Prediction Score\")\n",
    "ax = sns.heatmap(df,cmap=\"YlGnBu\")\n",
    "ax.set_title(\"Prediction Scores (MultiClass)\")\n",
    "plt.show()"
   ]
  },
  {
   "cell_type": "code",
   "execution_count": null,
   "metadata": {},
   "outputs": [],
   "source": [
    "filtered_df = df_multiclass_predictions[df_multiclass_predictions[\"Train Project\"].isin(least_projects)]\n",
    "filtered_df = filtered_df[filtered_df[\"Test Project\"].isin(least_projects)]\n",
    "filtered_df = filtered_df.replace(\"Infrastructure & Operations\", \"Infra & Ops\")\n",
    "df = filtered_df.pivot(\"Train Project\", \"Test Project\", \"Prediction Score\")\n",
    "ax = sns.heatmap(df,cmap=\"YlGnBu\")\n",
    "ax.set_title(\"Prediction Scores (MultiClass)\")\n",
    "plt.show()"
   ]
  },
  {
   "cell_type": "code",
   "execution_count": null,
   "metadata": {},
   "outputs": [],
   "source": [
    "filtered_df = df_multiclass_predictions[df_multiclass_predictions[\"Train Project\"].isin(most_projects)]\n",
    "filtered_df = filtered_df[filtered_df[\"Test Project\"].isin(least_projects)]\n",
    "filtered_df = filtered_df.replace(\"Infrastructure & Operations\", \"Infra & Ops\")\n",
    "df = filtered_df.pivot(\"Train Project\", \"Test Project\", \"Prediction Score\")\n",
    "ax = sns.heatmap(df,cmap=\"YlGnBu\")\n",
    "ax.set_title(\"Prediction Scores (MultiClass)\")\n",
    "plt.show()"
   ]
  },
  {
   "cell_type": "code",
   "execution_count": null,
   "metadata": {},
   "outputs": [],
   "source": [
    "filtered_df = df_multiclass_predictions[df_multiclass_predictions[\"Train Project\"].isin(least_projects)]\n",
    "filtered_df = filtered_df[filtered_df[\"Test Project\"].isin(most_projects)]\n",
    "filtered_df = filtered_df.replace(\"Infrastructure & Operations\", \"Infra & Ops\")\n",
    "df = filtered_df.pivot(\"Train Project\", \"Test Project\", \"Prediction Score\")\n",
    "ax = sns.heatmap(df,cmap=\"YlGnBu\")\n",
    "ax.set_title(\"Prediction Scores (MultiClass)\")\n",
    "plt.show()"
   ]
  },
  {
   "cell_type": "code",
   "execution_count": null,
   "metadata": {},
   "outputs": [],
   "source": []
  }
 ],
 "metadata": {
  "kernelspec": {
   "display_name": "Python 3",
   "language": "python",
   "name": "python3"
  },
  "language_info": {
   "codemirror_mode": {
    "name": "ipython",
    "version": 3
   },
   "file_extension": ".py",
   "mimetype": "text/x-python",
   "name": "python",
   "nbconvert_exporter": "python",
   "pygments_lexer": "ipython3",
   "version": "3.6.5"
  }
 },
 "nbformat": 4,
 "nbformat_minor": 2
}
