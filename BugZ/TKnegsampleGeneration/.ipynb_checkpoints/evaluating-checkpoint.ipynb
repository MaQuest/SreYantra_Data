{
 "cells": [
  {
   "cell_type": "markdown",
   "metadata": {},
   "source": [
    "## Import Packages"
   ]
  },
  {
   "cell_type": "code",
   "execution_count": null,
   "metadata": {},
   "outputs": [],
   "source": [
    "import pandas as pd\n",
    "import numpy as np\n",
    "import matplotlib.pyplot as plt\n",
    "import seaborn as sns"
   ]
  },
  {
   "cell_type": "markdown",
   "metadata": {},
   "source": [
    "### Import Model Predicitons"
   ]
  },
  {
   "cell_type": "code",
   "execution_count": null,
   "metadata": {},
   "outputs": [],
   "source": [
    "df_predictions = pd.read_csv(\"PredictionScores_BinaryClass.csv\")\n",
    "df_multiclass_predictions = pd.read_csv(\"PredictionScores_MultiClass.csv\")\n",
    "df_pairs = pd.read_csv(\"ModelPairs.csv\", low_memory = False)"
   ]
  },
  {
   "cell_type": "markdown",
   "metadata": {},
   "source": [
    "### Filter Out Predictions we care about"
   ]
  },
  {
   "cell_type": "code",
   "execution_count": null,
   "metadata": {},
   "outputs": [],
   "source": [
    "most_projects = [\"Core\", \"Firefox\", \"Thunderbird\", \"Bugzilla\", \"Seamonkey\", \"DevTools\", \"MailNews Core\", \"Toolkit\", \"Testing\", \n",
    "            \"Infrastructure & Operations\", \"NSS\"]\n",
    "\n",
    "train_projects = ['Core', 'MailNews Core', 'SeaMonkey', 'Bugzilla', 'Firefox',\n",
    "       'Other Applications', 'NSS', 'Calendar', 'Thunderbird', 'Toolkit',\n",
    "       'NSPR', 'Testing', 'Firefox Build System', 'Webtools']\n",
    "\n",
    "middle_projects = [\"developer.mozilla.org\", \"Conduit\", \"Developer Documentation\", \"Developer Documentation\", \"Participation Infrastructure\",\n",
    "                  \"Firefox for iOS\", \"NSPR\", \"mozilla.org\", \"Mozilla Foundation Communications\", \"Data Science\", \"Localization Infrastructure and Tools\"]\n",
    "\n",
    "x_ticks = [0,0.2,0.4,0.6,0.8,1]"
   ]
  },
  {
   "cell_type": "code",
   "execution_count": null,
   "metadata": {},
   "outputs": [],
   "source": [
    "df_predictions = df_predictions.drop(columns = \"Unnamed: 0\")"
   ]
  },
  {
   "cell_type": "markdown",
   "metadata": {},
   "source": [
    "# Display Heat Map (Binary Class Predictions)"
   ]
  },
  {
   "cell_type": "markdown",
   "metadata": {},
   "source": [
    "### Test Most"
   ]
  },
  {
   "cell_type": "code",
   "execution_count": null,
   "metadata": {},
   "outputs": [],
   "source": [
    "# Select duplicate rows except first occurrence based on all columns\n",
    "df = df_predictions[df_predictions[\"Test Project\"].isin(most_projects)]\n",
    "df = df.drop_duplicates(subset=None, keep='first', inplace=False)\n",
    "df = df.pivot(\"Train Project\", \"Test Project\", \"Prediction Score\")\n",
    "ax = sns.heatmap(df,cmap=\"YlGnBu\")\n",
    "ax.set_title(\"Most Prediction Scores (BinaryClass)\")\n",
    "plt.show()"
   ]
  },
  {
   "cell_type": "markdown",
   "metadata": {},
   "source": [
    "### Test Least"
   ]
  },
  {
   "cell_type": "code",
   "execution_count": null,
   "metadata": {},
   "outputs": [],
   "source": [
    "# Select duplicate rows except first occurrence based on all columns\n",
    "df = df_predictions[df_predictions[\"Test Project\"].isin(least_projects)]\n",
    "df = df.drop_duplicates(subset=None, keep='first', inplace=False)\n",
    "df = df.pivot(\"Train Project\", \"Test Project\", \"Prediction Score\")\n",
    "ax = sns.heatmap(df,cmap=\"YlGnBu\")\n",
    "ax.set_title(\"Least Prediction Scores (BinaryClass)\")\n",
    "plt.show()"
   ]
  },
  {
   "cell_type": "markdown",
   "metadata": {},
   "source": [
    "### Test Middle"
   ]
  },
  {
   "cell_type": "code",
   "execution_count": null,
   "metadata": {},
   "outputs": [],
   "source": [
    "# Select duplicate rows except first occurrence based on all columns\n",
    "df = df_predictions[df_predictions[\"Test Project\"].isin(middle_projects)]\n",
    "df = df.drop_duplicates(subset=None, keep='first', inplace=False)\n",
    "df = df.pivot(\"Train Project\", \"Test Project\", \"Prediction Score\")\n",
    "ax = sns.heatmap(df,cmap=\"YlGnBu\")\n",
    "ax.set_title(\"Median Prediction Scores (BinaryClass)\")\n",
    "plt.show()"
   ]
  },
  {
   "cell_type": "markdown",
   "metadata": {},
   "source": [
    "### Everything"
   ]
  },
  {
   "cell_type": "code",
   "execution_count": null,
   "metadata": {},
   "outputs": [],
   "source": [
    "df = df_predictions.drop_duplicates(subset=None, keep='first', inplace=False)\n",
    "df = df.pivot(\"Train Project\", \"Test Project\", \"Prediction Score\")\n",
    "fig, ax = plt.subplots(figsize=(25,15)) \n",
    "ax = sns.heatmap(df,cmap=\"YlGnBu\", ax = ax)\n",
    "ax.set_title(\"Prediction Scores (BinaryClass)\")\n",
    "plt.show()"
   ]
  },
  {
   "cell_type": "markdown",
   "metadata": {},
   "source": [
    "# Display Heat Map (Multi Class Predictions)"
   ]
  },
  {
   "cell_type": "markdown",
   "metadata": {},
   "source": [
    "### Test most"
   ]
  },
  {
   "cell_type": "code",
   "execution_count": null,
   "metadata": {},
   "outputs": [],
   "source": [
    "df = df_multiclass_predictions[df_multiclass_predictions[\"Test Project\"].isin(most_projects)]\n",
    "df = df.drop_duplicates(subset=None, keep='first', inplace=False)\n",
    "df = df.pivot(\"Train Project\", \"Test Project\", \"Prediction Score\")\n",
    "ax = sns.heatmap(df,cmap=\"YlGnBu\")\n",
    "ax.set_title(\"Prediction Scores (MultiClass)\")\n",
    "plt.show()"
   ]
  },
  {
   "cell_type": "markdown",
   "metadata": {},
   "source": [
    "### Test least"
   ]
  },
  {
   "cell_type": "code",
   "execution_count": null,
   "metadata": {},
   "outputs": [],
   "source": [
    "df = df_multiclass_predictions[df_multiclass_predictions[\"Test Project\"].isin(least_projects)]\n",
    "df = df.drop_duplicates(subset=None, keep='first', inplace=False)\n",
    "df = df.pivot(\"Train Project\", \"Test Project\", \"Prediction Score\")\n",
    "ax = sns.heatmap(df,cmap=\"YlGnBu\")\n",
    "ax.set_title(\"Prediction Scores (MultiClass)\")\n",
    "plt.show()"
   ]
  },
  {
   "cell_type": "markdown",
   "metadata": {},
   "source": [
    "### Test middle"
   ]
  },
  {
   "cell_type": "code",
   "execution_count": null,
   "metadata": {},
   "outputs": [],
   "source": [
    "df = df_multiclass_predictions[df_multiclass_predictions[\"Test Project\"].isin(middle_projects)]\n",
    "df = df.drop_duplicates(subset=None, keep='first', inplace=False)\n",
    "df = df.pivot(\"Train Project\", \"Test Project\", \"Prediction Score\")\n",
    "ax = sns.heatmap(df,cmap=\"YlGnBu\")\n",
    "ax.set_title(\"Prediction Scores (MultiClass)\")\n",
    "plt.show()"
   ]
  },
  {
   "cell_type": "markdown",
   "metadata": {},
   "source": [
    "### Everything"
   ]
  },
  {
   "cell_type": "code",
   "execution_count": null,
   "metadata": {},
   "outputs": [],
   "source": [
    "df = df_multiclass_predictions.pivot(\"Train Project\", \"Test Project\", \"Prediction Score\")\n",
    "fig, ax = plt.subplots(figsize=(25,15)) \n",
    "ax = sns.heatmap(df,cmap=\"YlGnBu\", ax = ax)\n",
    "ax.set_title(\"Prediction Scores (Multi Class)\")\n",
    "plt.show()"
   ]
  },
  {
   "cell_type": "code",
   "execution_count": null,
   "metadata": {},
   "outputs": [],
   "source": []
  }
 ],
 "metadata": {
  "kernelspec": {
   "display_name": "Python 3",
   "language": "python",
   "name": "python3"
  },
  "language_info": {
   "codemirror_mode": {
    "name": "ipython",
    "version": 3
   },
   "file_extension": ".py",
   "mimetype": "text/x-python",
   "name": "python",
   "nbconvert_exporter": "python",
   "pygments_lexer": "ipython3",
   "version": "3.6.5"
  }
 },
 "nbformat": 4,
 "nbformat_minor": 2
}
