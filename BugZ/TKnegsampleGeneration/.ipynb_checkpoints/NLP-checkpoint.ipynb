{
 "cells": [
  {
   "cell_type": "code",
   "execution_count": 114,
   "metadata": {},
   "outputs": [],
   "source": [
    "import pandas as pd\n",
    "import re\n",
    "import numpy as np\n",
    "import utilities as util\n",
    "import importlib\n",
    "import seaborn as sns\n",
    "from sklearn.feature_extraction.text import CountVectorizer,TfidfTransformer\n",
    "from sklearn.ensemble import RandomForestClassifier\n",
    "from sklearn.svm import SVC\n",
    "from sklearn.naive_bayes import MultinomialNB\n",
    "from sklearn.model_selection import cross_val_score,train_test_split, StratifiedKFold\n",
    "from sklearn.metrics import f1_score,precision_score,recall_score,confusion_matrix,classification_report\n",
    "from textblob import TextBlob\n",
    "import matplotlib.pyplot as plt\n",
    "\n",
    "from nltk.util import ngrams\n",
    "from nltk.corpus import wordnet as wn\n",
    "from nltk import word_tokenize\n",
    "from nltk.collocations import *\n"
   ]
  },
  {
   "cell_type": "code",
   "execution_count": 115,
   "metadata": {},
   "outputs": [
    {
     "data": {
      "text/plain": [
       "<module 'utilities' from 'C:\\\\Users\\\\teddy\\\\Documents\\\\Research Project\\\\SreYantra_Data\\\\BugZ\\\\TKnegsampleGeneration\\\\utilities.py'>"
      ]
     },
     "execution_count": 115,
     "metadata": {},
     "output_type": "execute_result"
    }
   ],
   "source": [
    "importlib.reload(util)"
   ]
  },
  {
   "cell_type": "code",
   "execution_count": 116,
   "metadata": {},
   "outputs": [],
   "source": [
    "nouns = [\"NN\",\"NNS\",\"NNP\",\"NNPS\"]\n",
    "ads = [\"JJ\",\"JJR\",\"JJS\"]"
   ]
  },
  {
   "cell_type": "code",
   "execution_count": null,
   "metadata": {},
   "outputs": [],
   "source": [
    "data = pd.read_csv(\"Teddy_Data/AllData.csv\", low_memory = False)"
   ]
  },
  {
   "cell_type": "code",
   "execution_count": null,
   "metadata": {},
   "outputs": [],
   "source": [
    "reqs = data[\"summary\"]"
   ]
  },
  {
   "cell_type": "code",
   "execution_count": 94,
   "metadata": {},
   "outputs": [],
   "source": [
    "nlp_df = pd.DataFrame(columns = [\"req orig\", \"req bigram\", \"req trigram\"])"
   ]
  },
  {
   "cell_type": "code",
   "execution_count": 95,
   "metadata": {},
   "outputs": [],
   "source": [
    "for index, value in reqs.items():\n",
    "    ## generate the bigram\n",
    "    tokens = util.generate_tokens(value)\n",
    "    bigram = util.generate_collated_ngrams(tokens,2)\n",
    "    trigram = util.generate_collated_ngrams(tokens,3)\n",
    "    result = {\"req orig\": value,\n",
    "             \"req bigram\": bigram,\n",
    "             \"req trigram\": trigram}\n",
    "    nlp_df = nlp_df.append(result, ignore_index = True)"
   ]
  },
  {
   "cell_type": "code",
   "execution_count": null,
   "metadata": {},
   "outputs": [],
   "source": []
  },
  {
   "cell_type": "code",
   "execution_count": 136,
   "metadata": {},
   "outputs": [],
   "source": [
    "text = \"The constitutional constrains the bargain. An equal diagram guts a scroll. A cloth pops beneath the club! The captain camps. Each tiny man graduates behind the stiff sympathy. The ego dines throughout a mimic.\"\n",
    "#col = util.generate_collated_ngrams(tokens,3)\n",
    "\n",
    "tokens = util.generate_tokens(text)\n",
    "tagged = nltk.pos_tag(tokens)\n",
    "output = list(ngrams(tagged, 2))\n"
   ]
  },
  {
   "cell_type": "code",
   "execution_count": 137,
   "metadata": {},
   "outputs": [
    {
     "data": {
      "text/plain": [
       "[(('the', 'DT'), ('constitutional', 'JJ')),\n",
       " (('constitutional', 'JJ'), ('constrains', 'VBZ')),\n",
       " (('constrains', 'VBZ'), ('the', 'DT')),\n",
       " (('the', 'DT'), ('bargain', 'NN')),\n",
       " (('bargain', 'NN'), ('an', 'DT')),\n",
       " (('an', 'DT'), ('equal', 'JJ')),\n",
       " (('equal', 'JJ'), ('diagram', 'NN')),\n",
       " (('diagram', 'NN'), ('guts', 'VBZ')),\n",
       " (('guts', 'VBZ'), ('a', 'DT')),\n",
       " (('a', 'DT'), ('scroll', 'NN')),\n",
       " (('scroll', 'NN'), ('a', 'DT')),\n",
       " (('a', 'DT'), ('cloth', 'NN')),\n",
       " (('cloth', 'NN'), ('pops', 'VBZ')),\n",
       " (('pops', 'VBZ'), ('beneath', 'IN')),\n",
       " (('beneath', 'IN'), ('the', 'DT')),\n",
       " (('the', 'DT'), ('club', 'NN')),\n",
       " (('club', 'NN'), ('the', 'DT')),\n",
       " (('the', 'DT'), ('captain', 'NN')),\n",
       " (('captain', 'NN'), ('camps', 'NNS')),\n",
       " (('camps', 'NNS'), ('each', 'DT')),\n",
       " (('each', 'DT'), ('tiny', 'JJ')),\n",
       " (('tiny', 'JJ'), ('man', 'NN')),\n",
       " (('man', 'NN'), ('graduates', 'VBZ')),\n",
       " (('graduates', 'VBZ'), ('behind', 'IN')),\n",
       " (('behind', 'IN'), ('the', 'DT')),\n",
       " (('the', 'DT'), ('stiff', 'JJ')),\n",
       " (('stiff', 'JJ'), ('sympathy', 'NN')),\n",
       " (('sympathy', 'NN'), ('the', 'DT')),\n",
       " (('the', 'DT'), ('ego', 'NN')),\n",
       " (('ego', 'NN'), ('dines', 'NNS')),\n",
       " (('dines', 'NNS'), ('throughout', 'IN')),\n",
       " (('throughout', 'IN'), ('a', 'DT')),\n",
       " (('a', 'DT'), ('mimic', 'JJ'))]"
      ]
     },
     "execution_count": 137,
     "metadata": {},
     "output_type": "execute_result"
    }
   ],
   "source": [
    "output"
   ]
  },
  {
   "cell_type": "code",
   "execution_count": 138,
   "metadata": {},
   "outputs": [],
   "source": [
    "for bigram in output:\n",
    "    if ~(((bigram[0][1] in nouns) or (bigram[0][1] in ads)) and (bigram[1][1] in nouns)):\n",
    "        output.remove(bigram)"
   ]
  },
  {
   "cell_type": "code",
   "execution_count": 139,
   "metadata": {},
   "outputs": [
    {
     "data": {
      "text/plain": [
       "[(('constitutional', 'JJ'), ('constrains', 'VBZ')),\n",
       " (('the', 'DT'), ('bargain', 'NN')),\n",
       " (('an', 'DT'), ('equal', 'JJ')),\n",
       " (('diagram', 'NN'), ('guts', 'VBZ')),\n",
       " (('a', 'DT'), ('scroll', 'NN')),\n",
       " (('a', 'DT'), ('cloth', 'NN')),\n",
       " (('pops', 'VBZ'), ('beneath', 'IN')),\n",
       " (('the', 'DT'), ('club', 'NN')),\n",
       " (('the', 'DT'), ('captain', 'NN')),\n",
       " (('camps', 'NNS'), ('each', 'DT')),\n",
       " (('tiny', 'JJ'), ('man', 'NN')),\n",
       " (('graduates', 'VBZ'), ('behind', 'IN')),\n",
       " (('the', 'DT'), ('stiff', 'JJ')),\n",
       " (('sympathy', 'NN'), ('the', 'DT')),\n",
       " (('ego', 'NN'), ('dines', 'NNS')),\n",
       " (('throughout', 'IN'), ('a', 'DT'))]"
      ]
     },
     "execution_count": 139,
     "metadata": {},
     "output_type": "execute_result"
    }
   ],
   "source": [
    "output"
   ]
  },
  {
   "cell_type": "code",
   "execution_count": 121,
   "metadata": {},
   "outputs": [],
   "source": [
    "filtered_list = filter(find_bigrams, output)"
   ]
  },
  {
   "cell_type": "code",
   "execution_count": 122,
   "metadata": {},
   "outputs": [
    {
     "name": "stdout",
     "output_type": "stream",
     "text": [
      "The filtered letters are:\n"
     ]
    }
   ],
   "source": [
    "print('The filtered letters are:') \n",
    "for s in filtered_list: \n",
    "    print(s)"
   ]
  },
  {
   "cell_type": "code",
   "execution_count": null,
   "metadata": {},
   "outputs": [],
   "source": []
  }
 ],
 "metadata": {
  "kernelspec": {
   "display_name": "Python 3",
   "language": "python",
   "name": "python3"
  },
  "language_info": {
   "codemirror_mode": {
    "name": "ipython",
    "version": 3
   },
   "file_extension": ".py",
   "mimetype": "text/x-python",
   "name": "python",
   "nbconvert_exporter": "python",
   "pygments_lexer": "ipython3",
   "version": "3.6.5"
  }
 },
 "nbformat": 4,
 "nbformat_minor": 2
}
