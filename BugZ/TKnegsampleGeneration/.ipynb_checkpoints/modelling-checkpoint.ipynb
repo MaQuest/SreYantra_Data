{
 "cells": [
  {
   "cell_type": "markdown",
   "metadata": {},
   "source": [
    "# Using Naive Bayes Classifaction Model"
   ]
  },
  {
   "cell_type": "code",
   "execution_count": 125,
   "metadata": {},
   "outputs": [],
   "source": [
    "import pandas as pd\n",
    "import re\n",
    "import numpy as np\n",
    "import utilities as util\n",
    "import nlp as nlp\n",
    "import importlib\n",
    "import seaborn as sns\n",
    "from sklearn.feature_extraction.text import CountVectorizer,TfidfTransformer\n",
    "from sklearn.ensemble import RandomForestClassifier\n",
    "from sklearn.svm import SVC\n",
    "from sklearn.naive_bayes import MultinomialNB\n",
    "from sklearn.model_selection import cross_val_score,train_test_split, StratifiedKFold\n",
    "from sklearn.metrics import f1_score,precision_score,recall_score,confusion_matrix,classification_report\n",
    "from textblob import TextBlob\n",
    "import matplotlib.pyplot as plt\n",
    "\n",
    "from nltk.util import ngrams"
   ]
  },
  {
   "cell_type": "code",
   "execution_count": 126,
   "metadata": {},
   "outputs": [
    {
     "data": {
      "text/plain": [
       "<module 'nlp' from 'C:\\\\Users\\\\teddy\\\\Documents\\\\Research Project\\\\SreYantra_Data\\\\BugZ\\\\TKnegsampleGeneration\\\\nlp.py'>"
      ]
     },
     "execution_count": 126,
     "metadata": {},
     "output_type": "execute_result"
    }
   ],
   "source": [
    "importlib.reload(util)\n",
    "importlib.reload(nlp)"
   ]
  },
  {
   "cell_type": "markdown",
   "metadata": {},
   "source": [
    "### Establishing global variables"
   ]
  },
  {
   "cell_type": "code",
   "execution_count": 104,
   "metadata": {},
   "outputs": [],
   "source": [
    "D_pairs = \"Teddy_Data/AllDependentPairs.csv\"\n",
    "I_pairs = \"Teddy_Data/AllIndependentPairs.csv\""
   ]
  },
  {
   "cell_type": "markdown",
   "metadata": {},
   "source": [
    "### Loading the Data"
   ]
  },
  {
   "cell_type": "code",
   "execution_count": 105,
   "metadata": {},
   "outputs": [],
   "source": [
    "df_dp = pd.read_csv(D_pairs, low_memory = False)\n",
    "df_ip = pd.read_csv(I_pairs, low_memory = False)"
   ]
  },
  {
   "cell_type": "code",
   "execution_count": 106,
   "metadata": {},
   "outputs": [],
   "source": [
    "unnamed_columns = [\"Unnamed: 0\", \"Unnamed: 0.1\"]\n",
    "df_dp = df_dp.drop(columns = unnamed_columns)\n",
    "df_ip = df_ip.drop(columns = unnamed_columns)"
   ]
  },
  {
   "cell_type": "code",
   "execution_count": 6,
   "metadata": {},
   "outputs": [
    {
     "name": "stdout",
     "output_type": "stream",
     "text": [
      "The amount of independent pairs is 740230\n",
      "The amount of dependent pairs is 62011\n"
     ]
    }
   ],
   "source": [
    "print(\"The amount of independent pairs is {}\".format(len(df_ip)))\n",
    "print(\"The amount of dependent pairs is {}\".format(len(df_dp)))"
   ]
  },
  {
   "cell_type": "markdown",
   "metadata": {},
   "source": [
    "# Testing the model for future uses"
   ]
  },
  {
   "cell_type": "code",
   "execution_count": 117,
   "metadata": {},
   "outputs": [],
   "source": [
    "tfidf_transformer = TfidfTransformer()\n",
    "count_vect = util.create_vectorizor()"
   ]
  },
  {
   "cell_type": "markdown",
   "metadata": {},
   "source": [
    "### 1000 for training, 500 for testing"
   ]
  },
  {
   "cell_type": "code",
   "execution_count": 122,
   "metadata": {},
   "outputs": [],
   "source": [
    "train_size = 1000\n",
    "test_size = 500"
   ]
  },
  {
   "cell_type": "code",
   "execution_count": 123,
   "metadata": {},
   "outputs": [],
   "source": [
    "df = df_dp[df_dp[\"req1Product\"] == \"Firefox\"].sample(int(train_size/2))\n",
    "df = df.append(df_ip[df_ip[\"req1Product\"] == \"Firefox\"].sample(int(train_size/2)))\n",
    "# randomize the dataframe\n",
    "df = df.sample(frac = 1)\n",
    "# get the test series'\n",
    "binary_class = np.array(df[\"BinaryClass\"])\n",
    "multi_class = df[\"MultiClass\"]\n",
    "## drop unimportant columns from training\n",
    "train_df = df.drop(columns = ['BinaryClass', 'MultiClass',\"req1Product\",\"req2Product\"])"
   ]
  },
  {
   "cell_type": "code",
   "execution_count": 127,
   "metadata": {},
   "outputs": [
    {
     "ename": "NameError",
     "evalue": "name 'generate_ngrams_df' is not defined",
     "output_type": "error",
     "traceback": [
      "\u001b[1;31m---------------------------------------------------------------------------\u001b[0m",
      "\u001b[1;31mNameError\u001b[0m                                 Traceback (most recent call last)",
      "\u001b[1;32m<ipython-input-127-bcfab7152b94>\u001b[0m in \u001b[0;36m<module>\u001b[1;34m()\u001b[0m\n\u001b[1;32m----> 1\u001b[1;33m \u001b[0mtrain_df\u001b[0m \u001b[1;33m=\u001b[0m \u001b[0mgenerate_ngrams_df\u001b[0m\u001b[1;33m(\u001b[0m\u001b[0mtrain_df\u001b[0m\u001b[1;33m,\u001b[0m \u001b[1;36m2\u001b[0m\u001b[1;33m)\u001b[0m\u001b[1;33m\u001b[0m\u001b[0m\n\u001b[0m",
      "\u001b[1;31mNameError\u001b[0m: name 'generate_ngrams_df' is not defined"
     ]
    }
   ],
   "source": [
    "train_df = nlp.generate_ngrams_df(df, ngrams)"
   ]
  },
  {
   "cell_type": "code",
   "execution_count": 111,
   "metadata": {},
   "outputs": [
    {
     "data": {
      "text/html": [
       "<div>\n",
       "<style scoped>\n",
       "    .dataframe tbody tr th:only-of-type {\n",
       "        vertical-align: middle;\n",
       "    }\n",
       "\n",
       "    .dataframe tbody tr th {\n",
       "        vertical-align: top;\n",
       "    }\n",
       "\n",
       "    .dataframe thead th {\n",
       "        text-align: right;\n",
       "    }\n",
       "</style>\n",
       "<table border=\"1\" class=\"dataframe\">\n",
       "  <thead>\n",
       "    <tr style=\"text-align: right;\">\n",
       "      <th></th>\n",
       "      <th>req1</th>\n",
       "      <th>req2</th>\n",
       "    </tr>\n",
       "  </thead>\n",
       "  <tbody>\n",
       "    <tr>\n",
       "      <th>52496</th>\n",
       "      <td>[(meta, quantumbar), (quantumbar, add), (top, ...</td>\n",
       "      <td>[(webextension, api)]</td>\n",
       "    </tr>\n",
       "    <tr>\n",
       "      <th>108577</th>\n",
       "      <td>[(better, path), (path, view)]</td>\n",
       "      <td>[(url, history), (main, window), (ff, component)]</td>\n",
       "    </tr>\n",
       "    <tr>\n",
       "      <th>5738</th>\n",
       "      <td>[(meta, photon), (ui, performance), (firefox, ...</td>\n",
       "      <td>[(meta, photon), (firefox, start)]</td>\n",
       "    </tr>\n",
       "    <tr>\n",
       "      <th>49128</th>\n",
       "      <td>[(meta, pocket), (new, tab)]</td>\n",
       "      <td>[(raw, image), (image, urls)]</td>\n",
       "    </tr>\n",
       "    <tr>\n",
       "      <th>27858</th>\n",
       "      <td>[(top, site), (site, search), (search, shortcu...</td>\n",
       "      <td>[(awesome, bar)]</td>\n",
       "    </tr>\n",
       "    <tr>\n",
       "      <th>115917</th>\n",
       "      <td>[(wildcard, matching)]</td>\n",
       "      <td>[(list, group), (group, manager)]</td>\n",
       "    </tr>\n",
       "    <tr>\n",
       "      <th>54666</th>\n",
       "      <td>[(new, certificate), (certificate, viewer)]</td>\n",
       "      <td>[(certificate, work), (dark, theme)]</td>\n",
       "    </tr>\n",
       "    <tr>\n",
       "      <th>38238</th>\n",
       "      <td>[(context, menu), (sessionrestore, items)]</td>\n",
       "      <td>[(draggable, tabs), (session, restore)]</td>\n",
       "    </tr>\n",
       "    <tr>\n",
       "      <th>25879</th>\n",
       "      <td>[(third, party), (party, trackers), (cookie, j...</td>\n",
       "      <td>[(meta, breakage), (breakage, bugs), (default,...</td>\n",
       "    </tr>\n",
       "    <tr>\n",
       "      <th>54142</th>\n",
       "      <td>[(meta, support), (local, development), (newta...</td>\n",
       "      <td>[(update, readme), (browser, components)]</td>\n",
       "    </tr>\n",
       "    <tr>\n",
       "      <th>722878</th>\n",
       "      <td>[(text, paragraphs)]</td>\n",
       "      <td>[(view, jerk)]</td>\n",
       "    </tr>\n",
       "    <tr>\n",
       "      <th>45773</th>\n",
       "      <td>[(pin, tab), (tab, discovery), (dark, theme), ...</td>\n",
       "      <td>[(context, menu), (tab, page), (context, menu)...</td>\n",
       "    </tr>\n",
       "    <tr>\n",
       "      <th>352625</th>\n",
       "      <td>[(url, output)]</td>\n",
       "      <td>[(feature, request), (request, alert), (alert,...</td>\n",
       "    </tr>\n",
       "    <tr>\n",
       "      <th>656431</th>\n",
       "      <td>[(open, file), (file, dialog), (dll, files)]</td>\n",
       "      <td>[(security, tab)]</td>\n",
       "    </tr>\n",
       "    <tr>\n",
       "      <th>39869</th>\n",
       "      <td>[(meta, model)]</td>\n",
       "      <td>[(returned, matches)]</td>\n",
       "    </tr>\n",
       "    <tr>\n",
       "      <th>32017</th>\n",
       "      <td>[(meta, urlbarinput)]</td>\n",
       "      <td>[(urlbarinput, value)]</td>\n",
       "    </tr>\n",
       "    <tr>\n",
       "      <th>353170</th>\n",
       "      <td>[(search, plugins)]</td>\n",
       "      <td>[(unload, event), (url, please)]</td>\n",
       "    </tr>\n",
       "    <tr>\n",
       "      <th>12480</th>\n",
       "      <td>[(top, site), (site, search), (search, shortcu...</td>\n",
       "      <td>[(add, search), (search, engine), (search, pro...</td>\n",
       "    </tr>\n",
       "    <tr>\n",
       "      <th>694710</th>\n",
       "      <td>[]</td>\n",
       "      <td>[(sidebar, request), (sidebar, links)]</td>\n",
       "    </tr>\n",
       "    <tr>\n",
       "      <th>621467</th>\n",
       "      <td>[(net, browser), (browser, control)]</td>\n",
       "      <td>[(low, quality), (forward, buttons)]</td>\n",
       "    </tr>\n",
       "    <tr>\n",
       "      <th>46425</th>\n",
       "      <td>[(update, copy)]</td>\n",
       "      <td>[(update, illustration)]</td>\n",
       "    </tr>\n",
       "    <tr>\n",
       "      <th>642208</th>\n",
       "      <td>[(formatted, text)]</td>\n",
       "      <td>[(use, system), (system, default), (default, f...</td>\n",
       "    </tr>\n",
       "    <tr>\n",
       "      <th>36520</th>\n",
       "      <td>[(create, monitors), (data, pings)]</td>\n",
       "      <td>[(asr, snippets)]</td>\n",
       "    </tr>\n",
       "    <tr>\n",
       "      <th>347327</th>\n",
       "      <td>[(save, pictures)]</td>\n",
       "      <td>[(keyboard, shortcut)]</td>\n",
       "    </tr>\n",
       "    <tr>\n",
       "      <th>58226</th>\n",
       "      <td>[(meta, router), (router, infrastructure)]</td>\n",
       "      <td>[(ui, surface), (surface, template)]</td>\n",
       "    </tr>\n",
       "    <tr>\n",
       "      <th>675237</th>\n",
       "      <td>[(tree, view), (view, cannot)]</td>\n",
       "      <td>[(make, modifiers), (content, accesskeys)]</td>\n",
       "    </tr>\n",
       "    <tr>\n",
       "      <th>737155</th>\n",
       "      <td>[(media, manager), (download, manager)]</td>\n",
       "      <td>[(support, result), (result, urls), (search, s...</td>\n",
       "    </tr>\n",
       "    <tr>\n",
       "      <th>59767</th>\n",
       "      <td>[(modal, payment), (payment, request), (reques...</td>\n",
       "      <td>[(accessibility, review), (payment, request), ...</td>\n",
       "    </tr>\n",
       "    <tr>\n",
       "      <th>112174</th>\n",
       "      <td>[(more, info), (opener, program)]</td>\n",
       "      <td>[(reload, pages)]</td>\n",
       "    </tr>\n",
       "    <tr>\n",
       "      <th>36868</th>\n",
       "      <td>[(top, site), (site, search), (search, shortcu...</td>\n",
       "      <td>[(yandex, ru), (multiple, times), (top, site),...</td>\n",
       "    </tr>\n",
       "    <tr>\n",
       "      <th>...</th>\n",
       "      <td>...</td>\n",
       "      <td>...</td>\n",
       "    </tr>\n",
       "    <tr>\n",
       "      <th>320234</th>\n",
       "      <td>[(use, recycle), (recycle, bin)]</td>\n",
       "      <td>[(show, error), (js, console), (text, plain), ...</td>\n",
       "    </tr>\n",
       "    <tr>\n",
       "      <th>6091</th>\n",
       "      <td>[(meta, photon), (ui, performance)]</td>\n",
       "      <td>[(meta, photon), (photon, eliminate), (front, ...</td>\n",
       "    </tr>\n",
       "    <tr>\n",
       "      <th>29158</th>\n",
       "      <td>[(hamburger, panel)]</td>\n",
       "      <td>[(library, extensions), (extensions, preferenc...</td>\n",
       "    </tr>\n",
       "    <tr>\n",
       "      <th>388062</th>\n",
       "      <td>[(educate, people), (yellow, location), (locat...</td>\n",
       "      <td>[(disable, zoom), (zoom, text), (non, text), (...</td>\n",
       "    </tr>\n",
       "    <tr>\n",
       "      <th>721228</th>\n",
       "      <td>[(unhelpfully, discards), (query, strings)]</td>\n",
       "      <td>[(generic, search), (search, engine), (engine,...</td>\n",
       "    </tr>\n",
       "    <tr>\n",
       "      <th>563674</th>\n",
       "      <td>[(error, dialog)]</td>\n",
       "      <td>[(toolbar, option)]</td>\n",
       "    </tr>\n",
       "    <tr>\n",
       "      <th>601431</th>\n",
       "      <td>[(keyboard, shortcut)]</td>\n",
       "      <td>[(use, system), (system, default), (default, f...</td>\n",
       "    </tr>\n",
       "    <tr>\n",
       "      <th>420210</th>\n",
       "      <td>[(support, xul), (xul, directory), (directory,...</td>\n",
       "      <td>[(language, chooser), (chooser, dialogue), (di...</td>\n",
       "    </tr>\n",
       "    <tr>\n",
       "      <th>275149</th>\n",
       "      <td>[(modifier, key), (opening, dialog)]</td>\n",
       "      <td>[]</td>\n",
       "    </tr>\n",
       "    <tr>\n",
       "      <th>69212</th>\n",
       "      <td>[(creator, type), (html, files)]</td>\n",
       "      <td>[(wide, terminology), (terminology, change), (...</td>\n",
       "    </tr>\n",
       "    <tr>\n",
       "      <th>692818</th>\n",
       "      <td>[]</td>\n",
       "      <td>[(visual, indication), (ctrl, number), (number...</td>\n",
       "    </tr>\n",
       "    <tr>\n",
       "      <th>52507</th>\n",
       "      <td>[(meta, quantumbar), (quantumbar, add), (top, ...</td>\n",
       "      <td>[(north, star), (star, metrics)]</td>\n",
       "    </tr>\n",
       "    <tr>\n",
       "      <th>30933</th>\n",
       "      <td>[(meta, photon), (photon, improvements)]</td>\n",
       "      <td>[(user, story), (tour, notification), (firefox...</td>\n",
       "    </tr>\n",
       "    <tr>\n",
       "      <th>722793</th>\n",
       "      <td>[(text, paragraphs)]</td>\n",
       "      <td>[(next, tab), (previous, tab), (window, menu)]</td>\n",
       "    </tr>\n",
       "    <tr>\n",
       "      <th>54493</th>\n",
       "      <td>[(meta, storage), (storage, site), (site, data...</td>\n",
       "      <td>[(persistent, storage), (storage, prompts), (d...</td>\n",
       "    </tr>\n",
       "    <tr>\n",
       "      <th>621435</th>\n",
       "      <td>[(net, browser), (browser, control)]</td>\n",
       "      <td>[(tie, link), (link, rel), (page, button)]</td>\n",
       "    </tr>\n",
       "    <tr>\n",
       "      <th>602798</th>\n",
       "      <td>[(implement, classinfo)]</td>\n",
       "      <td>[(clear, search), (search, history), (history,...</td>\n",
       "    </tr>\n",
       "    <tr>\n",
       "      <th>53749</th>\n",
       "      <td>[(meta, adzerk), (adzerk, firefox), (firefox, ...</td>\n",
       "      <td>[(pocket, id), (endpoint, requests)]</td>\n",
       "    </tr>\n",
       "    <tr>\n",
       "      <th>673766</th>\n",
       "      <td>[(jsmouseevent, needs), (tablet, pressure)]</td>\n",
       "      <td>[(toolbarname, attribute)]</td>\n",
       "    </tr>\n",
       "    <tr>\n",
       "      <th>48608</th>\n",
       "      <td>[(meta, pocket), (new, tab)]</td>\n",
       "      <td>[(load, ds), (idle, events)]</td>\n",
       "    </tr>\n",
       "    <tr>\n",
       "      <th>61215</th>\n",
       "      <td>[(update, fxa), (fxa, toolbar), (toolbar, menu)]</td>\n",
       "      <td>[(add, account), (account, submenu), (toolbar,...</td>\n",
       "    </tr>\n",
       "    <tr>\n",
       "      <th>603409</th>\n",
       "      <td>[(optional, custom), (caret, insertion), (inse...</td>\n",
       "      <td>[(apparent, way), (specific, plugin), (content...</td>\n",
       "    </tr>\n",
       "    <tr>\n",
       "      <th>42486</th>\n",
       "      <td>[(meta, stuff), (xul, extensions)]</td>\n",
       "      <td>[(whole, browser), (browser, window), (tab, vi...</td>\n",
       "    </tr>\n",
       "    <tr>\n",
       "      <th>675034</th>\n",
       "      <td>[(user, inputs), (save, page)]</td>\n",
       "      <td>[]</td>\n",
       "    </tr>\n",
       "    <tr>\n",
       "      <th>561196</th>\n",
       "      <td>[(warn, users)]</td>\n",
       "      <td>[(apparent, way), (specific, plugin), (content...</td>\n",
       "    </tr>\n",
       "    <tr>\n",
       "      <th>376599</th>\n",
       "      <td>[(secure, site), (site, tray), (tray, taskbar)...</td>\n",
       "      <td>[(site, list)]</td>\n",
       "    </tr>\n",
       "    <tr>\n",
       "      <th>18707</th>\n",
       "      <td>[(cert, error), (error, pages)]</td>\n",
       "      <td>[(certificate, error), (error, pages), (intern...</td>\n",
       "    </tr>\n",
       "    <tr>\n",
       "      <th>44248</th>\n",
       "      <td>[(full, text), (history, searches)]</td>\n",
       "      <td>[(allow, users), (full, text), (text, indexing)]</td>\n",
       "    </tr>\n",
       "    <tr>\n",
       "      <th>12495</th>\n",
       "      <td>[(top, site), (site, search), (search, shortcu...</td>\n",
       "      <td>[(search, shortcuts), (shortcuts, icon)]</td>\n",
       "    </tr>\n",
       "    <tr>\n",
       "      <th>58387</th>\n",
       "      <td>[(bootstrap, porting), (bug, fixes), (activity...</td>\n",
       "      <td>[(gsnippetsmap, parity)]</td>\n",
       "    </tr>\n",
       "  </tbody>\n",
       "</table>\n",
       "<p>1000 rows × 2 columns</p>\n",
       "</div>"
      ],
      "text/plain": [
       "                                                     req1  \\\n",
       "52496   [(meta, quantumbar), (quantumbar, add), (top, ...   \n",
       "108577                     [(better, path), (path, view)]   \n",
       "5738    [(meta, photon), (ui, performance), (firefox, ...   \n",
       "49128                        [(meta, pocket), (new, tab)]   \n",
       "27858   [(top, site), (site, search), (search, shortcu...   \n",
       "115917                             [(wildcard, matching)]   \n",
       "54666         [(new, certificate), (certificate, viewer)]   \n",
       "38238          [(context, menu), (sessionrestore, items)]   \n",
       "25879   [(third, party), (party, trackers), (cookie, j...   \n",
       "54142   [(meta, support), (local, development), (newta...   \n",
       "722878                               [(text, paragraphs)]   \n",
       "45773   [(pin, tab), (tab, discovery), (dark, theme), ...   \n",
       "352625                                    [(url, output)]   \n",
       "656431       [(open, file), (file, dialog), (dll, files)]   \n",
       "39869                                     [(meta, model)]   \n",
       "32017                               [(meta, urlbarinput)]   \n",
       "353170                                [(search, plugins)]   \n",
       "12480   [(top, site), (site, search), (search, shortcu...   \n",
       "694710                                                 []   \n",
       "621467               [(net, browser), (browser, control)]   \n",
       "46425                                    [(update, copy)]   \n",
       "642208                                [(formatted, text)]   \n",
       "36520                 [(create, monitors), (data, pings)]   \n",
       "347327                                 [(save, pictures)]   \n",
       "58226          [(meta, router), (router, infrastructure)]   \n",
       "675237                     [(tree, view), (view, cannot)]   \n",
       "737155            [(media, manager), (download, manager)]   \n",
       "59767   [(modal, payment), (payment, request), (reques...   \n",
       "112174                  [(more, info), (opener, program)]   \n",
       "36868   [(top, site), (site, search), (search, shortcu...   \n",
       "...                                                   ...   \n",
       "320234                   [(use, recycle), (recycle, bin)]   \n",
       "6091                  [(meta, photon), (ui, performance)]   \n",
       "29158                                [(hamburger, panel)]   \n",
       "388062  [(educate, people), (yellow, location), (locat...   \n",
       "721228        [(unhelpfully, discards), (query, strings)]   \n",
       "563674                                  [(error, dialog)]   \n",
       "601431                             [(keyboard, shortcut)]   \n",
       "420210  [(support, xul), (xul, directory), (directory,...   \n",
       "275149               [(modifier, key), (opening, dialog)]   \n",
       "69212                    [(creator, type), (html, files)]   \n",
       "692818                                                 []   \n",
       "52507   [(meta, quantumbar), (quantumbar, add), (top, ...   \n",
       "30933            [(meta, photon), (photon, improvements)]   \n",
       "722793                               [(text, paragraphs)]   \n",
       "54493   [(meta, storage), (storage, site), (site, data...   \n",
       "621435               [(net, browser), (browser, control)]   \n",
       "602798                           [(implement, classinfo)]   \n",
       "53749   [(meta, adzerk), (adzerk, firefox), (firefox, ...   \n",
       "673766        [(jsmouseevent, needs), (tablet, pressure)]   \n",
       "48608                        [(meta, pocket), (new, tab)]   \n",
       "61215    [(update, fxa), (fxa, toolbar), (toolbar, menu)]   \n",
       "603409  [(optional, custom), (caret, insertion), (inse...   \n",
       "42486                  [(meta, stuff), (xul, extensions)]   \n",
       "675034                     [(user, inputs), (save, page)]   \n",
       "561196                                    [(warn, users)]   \n",
       "376599  [(secure, site), (site, tray), (tray, taskbar)...   \n",
       "18707                     [(cert, error), (error, pages)]   \n",
       "44248                 [(full, text), (history, searches)]   \n",
       "12495   [(top, site), (site, search), (search, shortcu...   \n",
       "58387   [(bootstrap, porting), (bug, fixes), (activity...   \n",
       "\n",
       "                                                     req2  \n",
       "52496                               [(webextension, api)]  \n",
       "108577  [(url, history), (main, window), (ff, component)]  \n",
       "5738                   [(meta, photon), (firefox, start)]  \n",
       "49128                       [(raw, image), (image, urls)]  \n",
       "27858                                    [(awesome, bar)]  \n",
       "115917                  [(list, group), (group, manager)]  \n",
       "54666                [(certificate, work), (dark, theme)]  \n",
       "38238             [(draggable, tabs), (session, restore)]  \n",
       "25879   [(meta, breakage), (breakage, bugs), (default,...  \n",
       "54142           [(update, readme), (browser, components)]  \n",
       "722878                                     [(view, jerk)]  \n",
       "45773   [(context, menu), (tab, page), (context, menu)...  \n",
       "352625  [(feature, request), (request, alert), (alert,...  \n",
       "656431                                  [(security, tab)]  \n",
       "39869                               [(returned, matches)]  \n",
       "32017                              [(urlbarinput, value)]  \n",
       "353170                   [(unload, event), (url, please)]  \n",
       "12480   [(add, search), (search, engine), (search, pro...  \n",
       "694710             [(sidebar, request), (sidebar, links)]  \n",
       "621467               [(low, quality), (forward, buttons)]  \n",
       "46425                            [(update, illustration)]  \n",
       "642208  [(use, system), (system, default), (default, f...  \n",
       "36520                                   [(asr, snippets)]  \n",
       "347327                             [(keyboard, shortcut)]  \n",
       "58226                [(ui, surface), (surface, template)]  \n",
       "675237         [(make, modifiers), (content, accesskeys)]  \n",
       "737155  [(support, result), (result, urls), (search, s...  \n",
       "59767   [(accessibility, review), (payment, request), ...  \n",
       "112174                                  [(reload, pages)]  \n",
       "36868   [(yandex, ru), (multiple, times), (top, site),...  \n",
       "...                                                   ...  \n",
       "320234  [(show, error), (js, console), (text, plain), ...  \n",
       "6091    [(meta, photon), (photon, eliminate), (front, ...  \n",
       "29158   [(library, extensions), (extensions, preferenc...  \n",
       "388062  [(disable, zoom), (zoom, text), (non, text), (...  \n",
       "721228  [(generic, search), (search, engine), (engine,...  \n",
       "563674                                [(toolbar, option)]  \n",
       "601431  [(use, system), (system, default), (default, f...  \n",
       "420210  [(language, chooser), (chooser, dialogue), (di...  \n",
       "275149                                                 []  \n",
       "69212   [(wide, terminology), (terminology, change), (...  \n",
       "692818  [(visual, indication), (ctrl, number), (number...  \n",
       "52507                    [(north, star), (star, metrics)]  \n",
       "30933   [(user, story), (tour, notification), (firefox...  \n",
       "722793     [(next, tab), (previous, tab), (window, menu)]  \n",
       "54493   [(persistent, storage), (storage, prompts), (d...  \n",
       "621435         [(tie, link), (link, rel), (page, button)]  \n",
       "602798  [(clear, search), (search, history), (history,...  \n",
       "53749                [(pocket, id), (endpoint, requests)]  \n",
       "673766                         [(toolbarname, attribute)]  \n",
       "48608                        [(load, ds), (idle, events)]  \n",
       "61215   [(add, account), (account, submenu), (toolbar,...  \n",
       "603409  [(apparent, way), (specific, plugin), (content...  \n",
       "42486   [(whole, browser), (browser, window), (tab, vi...  \n",
       "675034                                                 []  \n",
       "561196  [(apparent, way), (specific, plugin), (content...  \n",
       "376599                                     [(site, list)]  \n",
       "18707   [(certificate, error), (error, pages), (intern...  \n",
       "44248    [(allow, users), (full, text), (text, indexing)]  \n",
       "12495            [(search, shortcuts), (shortcuts, icon)]  \n",
       "58387                            [(gsnippetsmap, parity)]  \n",
       "\n",
       "[1000 rows x 2 columns]"
      ]
     },
     "execution_count": 111,
     "metadata": {},
     "output_type": "execute_result"
    }
   ],
   "source": [
    "train_df"
   ]
  },
  {
   "cell_type": "markdown",
   "metadata": {},
   "source": [
    "### Split up the train and test sets"
   ]
  },
  {
   "cell_type": "code",
   "execution_count": 112,
   "metadata": {},
   "outputs": [],
   "source": [
    "X_train_counts = count_vect.fit_transform(np.array(train_df))\n",
    "X_train_tfidf= tfidf_transformer.fit_transform(X_train_counts)"
   ]
  },
  {
   "cell_type": "markdown",
   "metadata": {},
   "source": [
    "### Training the model (Binary Class)"
   ]
  },
  {
   "cell_type": "code",
   "execution_count": 113,
   "metadata": {},
   "outputs": [],
   "source": [
    "clf_model = MultinomialNB().fit(X_train_tfidf,binary_class.astype('int'))"
   ]
  },
  {
   "cell_type": "markdown",
   "metadata": {},
   "source": [
    "### Testing the model (Binary Class)"
   ]
  },
  {
   "cell_type": "code",
   "execution_count": 114,
   "metadata": {},
   "outputs": [
    {
     "name": "stdout",
     "output_type": "stream",
     "text": [
      "\n",
      "----------------------------------------------------------------------------------------------------\n",
      " Classifier Test Score : 0.73\n",
      " f1score : 0.73\n",
      "\n",
      "----------------------------------------------------------------------------------------------------\n",
      " Classifier Test Score : 0.7\n",
      " f1score : 0.7\n",
      "\n",
      "----------------------------------------------------------------------------------------------------\n",
      " Classifier Test Score : 0.682\n",
      " f1score : 0.68\n",
      "\n",
      "----------------------------------------------------------------------------------------------------\n",
      " Classifier Test Score : 0.692\n",
      " f1score : 0.69\n",
      "\n",
      "----------------------------------------------------------------------------------------------------\n",
      " Classifier Test Score : 0.664\n",
      " f1score : 0.66\n",
      "\n",
      "----------------------------------------------------------------------------------------------------\n",
      " Classifier Test Score : 0.67\n",
      " f1score : 0.67\n",
      "\n",
      "----------------------------------------------------------------------------------------------------\n",
      " Classifier Test Score : 0.704\n",
      " f1score : 0.7\n",
      "\n",
      "----------------------------------------------------------------------------------------------------\n",
      " Classifier Test Score : 0.704\n",
      " f1score : 0.7\n",
      "\n",
      "----------------------------------------------------------------------------------------------------\n",
      " Classifier Test Score : 0.698\n",
      " f1score : 0.7\n",
      "\n",
      "----------------------------------------------------------------------------------------------------\n",
      " Classifier Test Score : 0.688\n",
      " f1score : 0.69\n"
     ]
    }
   ],
   "source": [
    "for i in range(10):\n",
    "    test_df = df_dp[df_dp[\"req1Product\"] == \"Core\"].sample(int(test_size/2))\n",
    "    test_df = test_df.append(df_ip[df_ip[\"req1Product\"] == \"Core\"].sample(int(test_size/2)))\n",
    "    test_df = test_df.sample(frac = 1)\n",
    "    test_binary = np.array(test_df[\"BinaryClass\"])\n",
    "    test_df = test_df.drop(columns = ['BinaryClass', 'MultiClass',\"req1Product\",\"req2Product\"])\n",
    "    \n",
    "    test_df['req1'] = test_df['req1'].apply(lambda w: nlp.collocated_ngrams(w, 3))\n",
    "    test_df['req2'] = test_df['req2'].apply(lambda z: nlp.collocated_ngrams(z, 3))\n",
    "    \n",
    "    X_test_counts = count_vect.transform(np.array(test_df))\n",
    "    X_test_tfidf= tfidf_transformer.fit_transform(X_test_counts)\n",
    "\n",
    "    predict_labels = clf_model.predict(X_test_tfidf)\n",
    "    actualLabels = np.array(test_binary).astype('int')\n",
    "\n",
    "    confusion_matrix(actualLabels, predict_labels)\n",
    "\n",
    "    clf_test_score = clf_model.score(X_test_tfidf,actualLabels)\n",
    "    print(\"\\n\"+100*\"-\")\n",
    "    print(\" Classifier Test Score : \"+str(clf_test_score))\n",
    "\n",
    "    precision = round(precision_score(actualLabels, predict_labels,average='macro'),2)\n",
    "    recall = round(recall_score(actualLabels, predict_labels,average='macro'),2)\n",
    "    f1 = round(f1_score(actualLabels, predict_labels,average='macro'),2)\n",
    "    print(\" f1score : \"+str(f1))\n"
   ]
  },
  {
   "cell_type": "markdown",
   "metadata": {},
   "source": [
    "### Choose what is test and what is train (Multi Class)"
   ]
  },
  {
   "cell_type": "code",
   "execution_count": null,
   "metadata": {},
   "outputs": [],
   "source": [
    "train_x, train_y, test_x, test_y = util.train_test_multi_class(train,test)"
   ]
  },
  {
   "cell_type": "markdown",
   "metadata": {},
   "source": [
    "### Train the model (Multi Class)"
   ]
  },
  {
   "cell_type": "code",
   "execution_count": null,
   "metadata": {},
   "outputs": [],
   "source": [
    "X_train_tfidf, X_test_tfidf = util.create_classified_sets(train_x, test_x)"
   ]
  },
  {
   "cell_type": "code",
   "execution_count": null,
   "metadata": {},
   "outputs": [],
   "source": [
    "clf_model = MultinomialNB().fit(X_train_tfidf,np.array(train_y).astype('int'))"
   ]
  },
  {
   "cell_type": "markdown",
   "metadata": {},
   "source": [
    "### Test the model (Multi Class)"
   ]
  },
  {
   "cell_type": "code",
   "execution_count": null,
   "metadata": {},
   "outputs": [],
   "source": [
    "predict_labels = clf_model.predict(X_test_tfidf)\n",
    "actualLabels = np.array(test_y).astype('int')"
   ]
  },
  {
   "cell_type": "code",
   "execution_count": null,
   "metadata": {},
   "outputs": [],
   "source": [
    "clf_test_score = clf_model.score(X_test_tfidf,actualLabels)\n",
    "print(\"\\n\"+100*\"-\")\n",
    "print(\" Classifier Test Score : \"+str(clf_test_score))\n",
    "\n",
    "\n",
    "f1 = round(f1_score(actualLabels, predict_labels,average='macro'),2)\n",
    "print(\" f1score : \"+str(f1))"
   ]
  },
  {
   "cell_type": "markdown",
   "metadata": {},
   "source": [
    "# Brute Force!!! (Binary Class)"
   ]
  },
  {
   "cell_type": "markdown",
   "metadata": {},
   "source": [
    "### Initilize Verfication sizes"
   ]
  },
  {
   "cell_type": "code",
   "execution_count": null,
   "metadata": {},
   "outputs": [],
   "source": [
    "total_projects = len(df[\"req1Product\"].value_counts()) - 1\n",
    "df_unique = df_dp[\"req1Product\"].unique()\n",
    "df_unique = np.intersect1d(df_unique, df_ip[\"req1Product\"].unique())\n",
    "df_scores = pd.DataFrame(columns = [\"Train Project\", \"Test Project\", \"Prediction Score\"])"
   ]
  },
  {
   "cell_type": "code",
   "execution_count": null,
   "metadata": {},
   "outputs": [],
   "source": [
    "df_unique"
   ]
  },
  {
   "cell_type": "markdown",
   "metadata": {},
   "source": [
    "### Actual Model Training"
   ]
  },
  {
   "cell_type": "markdown",
   "metadata": {},
   "source": [
    "### New Model"
   ]
  },
  {
   "cell_type": "code",
   "execution_count": null,
   "metadata": {},
   "outputs": [],
   "source": [
    "### important global variables for model to use\n",
    "tfidf_transformer = TfidfTransformer()\n",
    "count_vect = util.create_vectorizor()\n",
    "\n",
    "important_projects = [\"Core\", \"Firefox\", \"Thunderbird\" ,\"Bugzilla\", \"SeaMonkey\"]\n",
    "clf = MultinomialNB()\n",
    "skf = StratifiedKFold(10)\n",
    "new_results = pd.DataFrame(columns = [\"Train Project\", \"Train Size\", \"Test Project\", \"Test Size\", \"Average Validation Score (15*15 fold)\",\"Average f1 score (10 Tests)\"])"
   ]
  },
  {
   "cell_type": "code",
   "execution_count": null,
   "metadata": {},
   "outputs": [],
   "source": [
    "project_num = 0\n",
    "for df_name in important_projects:\n",
    "    for i in range (5):\n",
    "        if (i == 0):\n",
    "            train_size = 100\n",
    "            test_size = train_size/2\n",
    "        else:\n",
    "            train_size = train_size * 2\n",
    "            test_size = train_size/2\n",
    "        ### Training and Verfication Phase ####\n",
    "        project_num = project_num + 1\n",
    "        print(\"Training Project {}: {}\".format(project_num, df_name))\n",
    "        ## get the pairs from both dataset with the same req1product\n",
    "        d_pairs = df_dp[df_dp[\"req1Product\"] == df_name]\n",
    "        i_pairs = df_ip[df_ip[\"req1Product\"] == df_name]\n",
    "        train_df = d_pairs.sample(int(train_size/2))\n",
    "        train_df = train_df.append(i_pairs.sample(int(train_size/2)))\n",
    "        ### randomize the data frame\n",
    "        train_df = train_df.sample(frac = 1)\n",
    "        train_binary_class = np.array(train_df[\"BinaryClass\"])\n",
    "        train_df = train_df.drop(columns = ['BinaryClass', 'MultiClass',\"req1Product\",\"req2Product\"])\n",
    "        ## condense the data\n",
    "        X_train_counts = count_vect.fit_transform(np.array(train_df))\n",
    "        X_train_tfidf= tfidf_transformer.fit_transform(X_train_counts)\n",
    "        ## k-fold validation\n",
    "        scores = cross_val_score(clf, X_train_tfidf, train_binary_class, cv = skf)\n",
    "        avgValidation = np.average(scores)\n",
    "        ## checking for a high enough validation score\n",
    "        if (avgValidation < 0.9):\n",
    "            continue\n",
    "        clf_model = MultinomialNB().fit(X_train_tfidf,train_binary_class.astype('int'))\n",
    "        for df_name2 in important_projects:\n",
    "            if df_name == df_name2:\n",
    "                continue\n",
    "            d_pairs2 = df_dp[df_dp[\"req1Product\"] == df_name2]\n",
    "            i_pairs2 = df_ip[df_ip[\"req1Product\"] == df_name2]\n",
    "            ## we want to run this 10 times and take 10 different random samples\n",
    "            f1_scores = []\n",
    "            for i in range(10):\n",
    "                test_df = d_pairs2.sample(int(test_size/2))\n",
    "                test_df = test_df.append(i_pairs2.sample(int(test_size/2)))\n",
    "                test_df = test_df.sample(frac = 1)\n",
    "                test_binary = np.array(test_df[\"BinaryClass\"])\n",
    "                test_df = test_df.drop(columns = ['BinaryClass', 'MultiClass',\"req1Product\",\"req2Product\"])\n",
    "                ## condense the data \n",
    "                X_test_counts = count_vect.transform(np.array(test_df))\n",
    "                X_test_tfidf= tfidf_transformer.fit_transform(X_test_counts)\n",
    "                ## seperate prediction array from actual value array\n",
    "                predict_labels = clf_model.predict(X_test_tfidf)\n",
    "                actualLabels = np.array(test_binary).astype('int')\n",
    "                ## create the confusion matrix\n",
    "                cm = confusion_matrix(actualLabels, predict_labels)\n",
    "\n",
    "                precision = round(precision_score(actualLabels, predict_labels,average='macro'),2)\n",
    "                recall = round(recall_score(actualLabels, predict_labels,average='macro'),2)\n",
    "                f1 = round(f1_score(actualLabels, predict_labels,average='macro'),2)\n",
    "                f1_scores.append(f1)\n",
    "\n",
    "            avgf1score = np.average(f1_scores)\n",
    "            result = {\"Train Project\" : df_name,\n",
    "                      \"Train Size\" : train_size,\n",
    "                      \"Test Project\": df_name2,\n",
    "                      \"Test Size\": test_size,\n",
    "                      \"Average Validation Score (15*15 fold)\" : avgValidation,\n",
    "                      \"Average f1 score (10 Tests)\" : avgf1score}\n",
    "            new_results = new_results.append(result, ignore_index = True)\n",
    "    \n",
    "            \n",
    "            \n",
    "        \n",
    "    \n",
    "    \n",
    "    \n",
    "    \n",
    "    \n",
    "    "
   ]
  },
  {
   "cell_type": "code",
   "execution_count": null,
   "metadata": {},
   "outputs": [],
   "source": [
    "new_results"
   ]
  },
  {
   "cell_type": "code",
   "execution_count": null,
   "metadata": {},
   "outputs": [],
   "source": [
    "new_results.to_csv(\"New_Results.csv\")"
   ]
  },
  {
   "cell_type": "markdown",
   "metadata": {},
   "source": [
    "### Old model"
   ]
  },
  {
   "cell_type": "code",
   "execution_count": null,
   "metadata": {},
   "outputs": [],
   "source": [
    "project_num = 0\n",
    "## every project will be used as a training model\n",
    "for df_name in df_unique:\n",
    "    project_num = project_num + 1\n",
    "    train = df[df[\"req1Product\"] == df_name]\n",
    "    independent = len(train[train[\"BinaryClass\"] == 0])\n",
    "    dependent = len(train[train[\"BinaryClass\"] == 1])\n",
    "    ## if a data set only has less than 5 pairs of each, don't even bother training\n",
    "    if ((independent < 5) or (dependent < 5)):\n",
    "        print(\"Not using {}\".format(df_name))\n",
    "        continue\n",
    "    ## if a data set's independent pairs are greater than dependent pairs, balance to match dependent pair count\n",
    "    else:\n",
    "        train = util.balance_train(train)\n",
    "    train_x, train_y = util.x_y_split(train)\n",
    "    ## classify and condense the model\n",
    "    X_train_counts = count_vect.fit_transform(np.array(train_x))\n",
    "    X_train_tfidf= tfidf_transformer.fit_transform(X_train_counts)\n",
    "    ## train and fit the model\n",
    "    clf_model = MultinomialNB().fit(X_train_tfidf,np.array(train_y).astype('int'))\n",
    "    ## prompt the user which model is currently being used to test results\n",
    "    print(\"Currently Testing using {} model, this is project number {} out of {}\".format(df_name, project_num, len(df_unique)))\n",
    "    # every training model will test all other models\n",
    "    for df_name2 in df_unique:\n",
    "        if df_name != df_name2:\n",
    "            test = df[df[\"req1Product\"] == df_name2]\n",
    "            test_x, test_y = util.x_y_split(test)\n",
    "            X_test_counts = count_vect.transform(np.array(test_x))\n",
    "            X_test_tfidf= tfidf_transformer.fit_transform(X_test_counts)\n",
    "            predict_labels = clf_model.predict(X_test_tfidf)\n",
    "            actualLabels = np.array(test_y).astype('int')\n",
    "            ## will use f1 scores to see how well the modelsdo\n",
    "            clf_test_score = clf_model.score(X_test_tfidf,actualLabels)\n",
    "            ## add results to the dataframe\n",
    "            result = {\"Train Project\": df_name, \"Test Project\": df_name2, \"Prediction Score\": \"{:.2f}\".format(clf_test_score)}\n",
    "            df_scores = df_scores.append(result, ignore_index = True)\n",
    "\n",
    "            \n",
    "    \n",
    "    "
   ]
  },
  {
   "cell_type": "markdown",
   "metadata": {},
   "source": [
    "### Output the Results"
   ]
  },
  {
   "cell_type": "code",
   "execution_count": null,
   "metadata": {},
   "outputs": [],
   "source": [
    "df_scores.to_csv(\"PredictionScores_BinaryClass.csv\")"
   ]
  },
  {
   "cell_type": "markdown",
   "metadata": {},
   "source": [
    "## Brute Force!!! (MultiClass)"
   ]
  },
  {
   "cell_type": "code",
   "execution_count": null,
   "metadata": {},
   "outputs": [],
   "source": [
    "df_scores = pd.DataFrame(columns = [\"Train Project\", \"Test Project\", \"Prediction Score\"])\n",
    "project_num = 0\n",
    "## every project will be used as a training model\n",
    "for df_name in df_unique:\n",
    "    project_num = project_num + 1\n",
    "    train = df[df[\"req1Product\"] == df_name]\n",
    "    independent = len(df[(df[\"req1Product\"] == df_name) & (df[\"BinaryClass\"] == 0)])\n",
    "    dependent = len(df[(df[\"req1Product\"] == df_name) & (df[\"BinaryClass\"] == 1)])\n",
    "    ## if a data set only has less than 5 pairs of each, don't even bother training\n",
    "    if ((independent < 5) or (dependent < 5)):\n",
    "        print(\"Not using {}\".format(df_name))\n",
    "        continue\n",
    "    ## if a data set's independent pairs are greater than dependent pairs, balance to match dependent pair count\n",
    "    else:\n",
    "        train = util.balance_train(train)\n",
    "    train_x, train_y = util.x_y_multiclass_split(train)\n",
    "    ## classify and condense the model\n",
    "    X_train_counts = count_vect.fit_transform(np.array(train_x))\n",
    "    X_train_tfidf= tfidf_transformer.fit_transform(X_train_counts)\n",
    "    ## train and fit the model\n",
    "    clf_model = MultinomialNB().fit(X_train_tfidf,np.array(train_y).astype('int'))\n",
    "    ## prompt the user which model is currently being used to test results\n",
    "    print(\"Currently Testing using {} model, this is project number {}\".format(df_name, project_num))\n",
    "    # every training model will test all other models\n",
    "    for df_name2 in df_unique:\n",
    "        if df_name != df_name2:\n",
    "            test = df[df[\"req1Product\"] == df_name2]\n",
    "            test_x, test_y = util.x_y_multiclass_split(test)\n",
    "            X_test_counts = count_vect.transform(np.array(test_x))\n",
    "            X_test_tfidf= tfidf_transformer.fit_transform(X_test_counts)\n",
    "            predict_labels = clf_model.predict(X_test_tfidf)\n",
    "            actualLabels = np.array(test_y).astype('int')\n",
    "            ## will use f1 scores to see how well the modelsdo\n",
    "            clf_test_score = clf_model.score(X_test_tfidf,actualLabels)\n",
    "            ## add results to the dataframe\n",
    "            result = {\"Train Project\": df_name, \"Test Project\": df_name2, \"Prediction Score\": \"{:.2f}\".format(clf_test_score)}\n",
    "            df_scores = df_scores.append(result, ignore_index = True)"
   ]
  },
  {
   "cell_type": "code",
   "execution_count": null,
   "metadata": {},
   "outputs": [],
   "source": [
    "df_scores.to_csv(\"PredictionScores_MultiClass.csv\")"
   ]
  }
 ],
 "metadata": {
  "kernelspec": {
   "display_name": "Python 3",
   "language": "python",
   "name": "python3"
  },
  "language_info": {
   "codemirror_mode": {
    "name": "ipython",
    "version": 3
   },
   "file_extension": ".py",
   "mimetype": "text/x-python",
   "name": "python",
   "nbconvert_exporter": "python",
   "pygments_lexer": "ipython3",
   "version": "3.6.5"
  }
 },
 "nbformat": 4,
 "nbformat_minor": 2
}
