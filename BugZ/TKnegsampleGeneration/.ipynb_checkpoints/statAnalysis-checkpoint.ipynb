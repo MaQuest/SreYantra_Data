{
 "cells": [
  {
   "cell_type": "code",
   "execution_count": null,
   "metadata": {},
   "outputs": [],
   "source": [
    "import pandas as pd\n",
    "import numpy as np\n",
    "import matplotlib.pyplot as plt\n",
    "\n",
    "DEPENDENT_DATA = \"./AllData.csv\"\n",
    "INDEPENDENT_DATA = \"AllIndependentData.csv\"\n",
    "DEPENDENT_PAIRS = \"Level1PairsReadyData.csv\""
   ]
  },
  {
   "cell_type": "markdown",
   "metadata": {},
   "source": [
    "# Some Results"
   ]
  },
  {
   "cell_type": "code",
   "execution_count": null,
   "metadata": {},
   "outputs": [],
   "source": [
    "df_d = pd.read_csv(DEPENDENT_DATA, low_memory=False)\n",
    "df_i = pd.read_csv(INDEPENDENT_DATA)\n",
    "df_dp = pd.read_csv(DEPENDENT_PAIRS)\n",
    "\n",
    "print(\"Total amount of data points for dependent requirements: \" + str(len(df_d)))\n",
    "print(\"Total amount of data points for indepedent requirements: \" + str(len(df_i)))\n",
    "\n",
    "print(\"Total amount of data points for dependent pairs: \" + str(len(df_dp)))\n",
    "print(\"Total amount of \\'blocks\\' data points: \" + str(len(df_d[df_d[\"blocks\"].notnull()])))\n",
    "\n",
    "print(\"Total amount of \\'depends on\\' data points: \" + str(len(df_d[df_d[\"depends_on\"].notnull()])))\n",
    "print(\"Total amount of \\'duplicate data\\' points: \" + str(len(df_d[df_d[\"duplicates\"].notnull()])))\n"
   ]
  },
  {
   "cell_type": "markdown",
   "metadata": {},
   "source": [
    "# Independent \"product\" graph"
   ]
  },
  {
   "cell_type": "code",
   "execution_count": null,
   "metadata": {},
   "outputs": [],
   "source": [
    "ig, ax = plt.subplots()\n",
    "df_i['product'].value_counts().plot(ax=ax, kind='bar', title = \"Product count for Dependent Requirements\")"
   ]
  },
  {
   "cell_type": "markdown",
   "metadata": {},
   "source": [
    "# Dependent \"product\" graph"
   ]
  },
  {
   "cell_type": "code",
   "execution_count": null,
   "metadata": {},
   "outputs": [],
   "source": [
    "ig, ax = plt.subplots()\n",
    "df_d['product'].value_counts().plot(ax=ax, kind='bar', figsize = (20,10), title = \"Product count for Dependent Requirements\")"
   ]
  },
  {
   "cell_type": "code",
   "execution_count": 35,
   "metadata": {},
   "outputs": [
    {
     "data": {
      "text/plain": [
       "Core                                     1488\n",
       "DevTools                                  474\n",
       "Firefox                                   453\n",
       "Toolkit                                   209\n",
       "Testing                                   180\n",
       "Firefox Build System                      135\n",
       "Infrastructure & Operations               129\n",
       "MailNews Core                             123\n",
       "SeaMonkey                                 111\n",
       "WebExtensions                             111\n",
       "Thunderbird                               105\n",
       "Bugzilla                                   93\n",
       "Firefox for Android                        57\n",
       "Remote Protocol                            56\n",
       "bugzilla.mozilla.org                       55\n",
       "Tree Management                            54\n",
       "Taskcluster                                39\n",
       "Data Platform and Tools                    34\n",
       "Release Engineering                        33\n",
       "GeckoView                                  28\n",
       "mozilla.org                                24\n",
       "Developer Services                         20\n",
       "Marketing                                  18\n",
       "Calendar                                   16\n",
       "Chat Core                                  16\n",
       "developer.mozilla.org                      15\n",
       "NSS                                        15\n",
       "Firefox for iOS                            13\n",
       "Conduit                                    13\n",
       "Socorro                                    13\n",
       "Cloud Services                             12\n",
       "Data Science                               11\n",
       "Other Applications                          9\n",
       "Participation Infrastructure                7\n",
       "Webtools                                    6\n",
       "Mozilla Foundation Communications           5\n",
       "support.mozilla.org                         4\n",
       "Developer Documentation                     4\n",
       "Shield                                      4\n",
       "NSPR                                        4\n",
       "Instantbird                                 3\n",
       "Localization Infrastructure and Tools       3\n",
       "Developer Engagement                        2\n",
       "Enterprise Information Security             2\n",
       "www.mozilla.org                             2\n",
       "External Software Affecting Firefox         2\n",
       "Community Building                          1\n",
       "Snippets                                    1\n",
       "Focus-iOS                                   1\n",
       "Websites                                    1\n",
       "L20n                                        1\n",
       "Name: product, dtype: int64"
      ]
     },
     "execution_count": 35,
     "metadata": {},
     "output_type": "execute_result"
    }
   ],
   "source": [
    "type_count = df_d['type'].value_counts()\n",
    "product_count = df_d[\"product\"].value_counts()\n",
    "\n",
    "print(type_count)\n",
    "print(product_count)"
   ]
  },
  {
   "cell_type": "code",
   "execution_count": null,
   "metadata": {},
   "outputs": [],
   "source": []
  },
  {
   "cell_type": "code",
   "execution_count": null,
   "metadata": {},
   "outputs": [],
   "source": []
  }
 ],
 "metadata": {
  "kernelspec": {
   "display_name": "Python 3",
   "language": "python",
   "name": "python3"
  },
  "language_info": {
   "codemirror_mode": {
    "name": "ipython",
    "version": 3
   },
   "file_extension": ".py",
   "mimetype": "text/x-python",
   "name": "python",
   "nbconvert_exporter": "python",
   "pygments_lexer": "ipython3",
   "version": "3.6.5"
  }
 },
 "nbformat": 4,
 "nbformat_minor": 2
}
