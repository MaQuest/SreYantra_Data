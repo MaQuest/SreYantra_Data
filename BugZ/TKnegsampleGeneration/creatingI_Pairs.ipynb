{
 "cells": [
  {
   "cell_type": "code",
   "execution_count": null,
   "metadata": {},
   "outputs": [],
   "source": [
    "import pandas as pd\n",
    "import numpy as np\n",
    "DEPENDENT_DATA = \"./AllData.csv\"\n",
    "INDEPENDENT_DATA = \"AllIndependentData.csv\"\n",
    "PAIRS_DATA = \"negSamplePairs.csv\""
   ]
  },
  {
   "cell_type": "code",
   "execution_count": null,
   "metadata": {},
   "outputs": [],
   "source": [
    "df_i = pd.read_csv(INDEPENDENT_DATA)\n",
    "\n",
    "sub_df = df_i.copy()"
   ]
  },
  {
   "cell_type": "code",
   "execution_count": null,
   "metadata": {},
   "outputs": [],
   "source": [
    "sub_df.columns"
   ]
  },
  {
   "cell_type": "markdown",
   "metadata": {},
   "source": [
    "## Keeping important columns"
   ]
  },
  {
   "cell_type": "code",
   "execution_count": null,
   "metadata": {},
   "outputs": [],
   "source": [
    "importantColumns = [\"id\",\"summary\",\"priority\", \"creation_time\", \"keywords\",  \"type\", \"classification\", \"product\", \"severity\", \"classifcation\"\n",
    "                    ,\"version\", \"target_milestone\"]\n",
    "sub_df = sub_df.filter(items=importantColumns)\n",
    "sub_df = sub_df[sub_df[\"type\"] == \"enhancement\"]\n"
   ]
  },
  {
   "cell_type": "markdown",
   "metadata": {},
   "source": [
    "## Creating the pairs"
   ]
  },
  {
   "cell_type": "code",
   "execution_count": null,
   "metadata": {},
   "outputs": [],
   "source": [
    "count = 0\n",
    "pairs = []\n",
    "limit = 100\n",
    "flag = False\n",
    "total = len(sub_df)\n",
    "total_count = 0\n",
    "\n",
    "for index, row in sub_df.iterrows():\n",
    "    for index2, row2 in sub_df.iterrows():\n",
    "        if (row[\"id\"] != row2[\"id\"]):\n",
    "            count = count + 1\n",
    "            pairs.append({ \"BinaryClass\": 0,\n",
    "                           \"MultiClass\": 0,\n",
    "                           \"req1\": row[\"summary\"],\n",
    "                           'req1Id': row[\"id\"],\n",
    "                           \"req1Priority\": row[\"priority\"],\n",
    "                           \"req1Severity\": row[\"severity\"],\n",
    "                           \"req1CreationTime\": row[\"creation_time\"],\n",
    "                           \"req1Keywords\" : row[\"keywords\"],\n",
    "                           \"req1Type\": row[\"type\"],\n",
    "                           \"req1Product\": row[\"product\"],\n",
    "                           \"req1Release\" : row[\"target_milestone\"],\n",
    "                           \"req1Class\": row[\"classification\"],\n",
    "                           \"req1Ver\" : row[\"version\"],\n",
    "                           \"req2\": row2[\"summary\"],\n",
    "                           \"req2Id\": row2[\"id\"],\n",
    "                           \"req2Priority\": row2[\"priority\"],\n",
    "                           \"req2Severity\": row2[\"severity\"],\n",
    "                           \"req2Creation_time\": row2[\"creation_time\"],\n",
    "                           \"req2Keywords\" : row2[\"keywords\"],\n",
    "                           \"req2Type\": row2[\"type\"],\n",
    "                           \"req2Product\": row2[\"product\"],\n",
    "                           \"req2Release\" : row2[\"target_milestone\"],\n",
    "                           \"req2Ver\" : row2[\"version\"],\n",
    "                           \"req2Class\": row2[\"classification\"]\n",
    "                            })\n",
    "            \n",
    "            if count == limit:\n",
    "                df_allPairs = pd.DataFrame(pairs)\n",
    "                if flag == False:\n",
    "                    with open('negSamplePairs.csv', 'a',encoding='utf-8') as f:\n",
    "                                df_allPairs.to_csv(f, encoding='utf-8')                        \n",
    "                    flag = True\n",
    "                else:\n",
    "                    with open('negSamplePairs.csv', 'a',encoding='utf-8') as f:\n",
    "                                df_allPairs.to_csv(f, header = False, encoding='utf-8') \n",
    "                            \n",
    "                count = 0\n",
    "                pairs = []\n",
    "                \n",
    "        else:\n",
    "            total_count = total_count + 1\n",
    "            print(\"{:.2f} percent completed\".format((total_count/total)*100))\n",
    "            \n",
    "                            \n",
    "            \n",
    "\n",
    "#pairs_df.to_csv(\"TK_Level1_negativePairs.csv\")"
   ]
  },
  {
   "cell_type": "code",
   "execution_count": null,
   "metadata": {},
   "outputs": [],
   "source": []
  }
 ],
 "metadata": {
  "kernelspec": {
   "display_name": "Python 3",
   "language": "python",
   "name": "python3"
  },
  "language_info": {
   "codemirror_mode": {
    "name": "ipython",
    "version": 3
   },
   "file_extension": ".py",
   "mimetype": "text/x-python",
   "name": "python",
   "nbconvert_exporter": "python",
   "pygments_lexer": "ipython3",
   "version": "3.6.5"
  }
 },
 "nbformat": 4,
 "nbformat_minor": 2
}
