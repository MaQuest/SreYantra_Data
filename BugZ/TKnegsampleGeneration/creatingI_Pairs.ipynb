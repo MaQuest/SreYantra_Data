{
 "cells": [
  {
   "cell_type": "code",
   "execution_count": null,
   "metadata": {},
   "outputs": [],
   "source": [
    "import pandas as pd\n",
    "import numpy as np\n",
    "DEPENDENT_DATA = \"./AllData.csv\"\n",
    "INDEPENDENT_DATA = \"AllIndependentData.csv\""
   ]
  },
  {
   "cell_type": "code",
   "execution_count": null,
   "metadata": {},
   "outputs": [],
   "source": [
    "df_i = pd.read_csv(INDEPENDENT_DATA)\n",
    "\n",
    "sub_df = df_i.copy()"
   ]
  },
  {
   "cell_type": "markdown",
   "metadata": {},
   "source": [
    "## Keeping important columns"
   ]
  },
  {
   "cell_type": "code",
   "execution_count": null,
   "metadata": {},
   "outputs": [],
   "source": [
    "importantColumns = [\"id\",\"summary\",\"priority\", \"creation_time\", \"keywords\",  \"type\", \"classification\", \"product\", \"severity\", \"classifcation\"]\n",
    "sub_df = sub_df.filter(items=importantColumns)\n",
    "\n",
    "sub_df[\"classification\"]"
   ]
  },
  {
   "cell_type": "markdown",
   "metadata": {},
   "source": [
    "## Creating the pairs"
   ]
  },
  {
   "cell_type": "code",
   "execution_count": null,
   "metadata": {},
   "outputs": [],
   "source": [
    "pairs_columns = [\"req1_id\", \"req1_summary\", \"req1_priority\", \"req1_creation_time\", \"req1_keywords\", \"req1_type\",\n",
    "                 \"req1_product\", \"req1_class\", \"req1_severity\" ,\"req2_id\", \"req2_summary\", \"req2_priority\", \n",
    "                 \"req2_creation_time\", \"req2_keywords\", \"req2_type\", \"req2_product\", \"req2_class\",\n",
    "                  \"req2_severity\", \"BinaryClass\", \"MultiClass\"]\n",
    "\n",
    "pairs_df = pd.DataFrame(columns = pairs_columns)\n",
    "pairs_df.columns"
   ]
  },
  {
   "cell_type": "code",
   "execution_count": null,
   "metadata": {},
   "outputs": [],
   "source": [
    "count = 0\n",
    "\n",
    "for index, row in sub_df.iterrows():\n",
    "    for index2, row2 in sub_df.iterrows():\n",
    "        if (row[\"id\"] != row2[\"id\"]):\n",
    "            pairs_df = pairs_df.append({'req1_id': row[\"id\"],\n",
    "                                        \"req1_summary\": row[\"summary\"],\n",
    "                                        \"req1_priority\": row[\"priority\"],\n",
    "                                        \"req1_creation_time\": row[\"creation_time\"],\n",
    "                                        \"req1_keywords\" : row[\"keywords\"],\n",
    "                                        \"req1_type\": row[\"type\"],\n",
    "                                        \"req1_product\": row[\"product\"],\n",
    "                                        \"req1_class\": row[\"classification\"],\n",
    "                                        \"req1_severity\": row[\"severity\"],\n",
    "                                        \"req2_id\": row2[\"id\"],\n",
    "                                        \"req2_summary\": row2[\"summary\"],\n",
    "                                        \"req2_priority\": row2[\"priority\"],\n",
    "                                        \"req2_creation_time\": row2[\"creation_time\"],\n",
    "                                        \"req2_keywords\" : row2[\"keywords\"],\n",
    "                                        \"req2_type\": row2[\"type\"],\n",
    "                                        \"req2_product\": row2[\"product\"],\n",
    "                                        \"req2_class\": row2[\"classification\"],\n",
    "                                        \"req2_severity\": row2[\"severity\"],\n",
    "                                        \"BinaryClass\": 0,\n",
    "                                        \"MultiClass\": 0}, ignore_index = True)\n",
    "        break\n",
    "            \n",
    "            \n",
    "                            \n",
    "            \n",
    "\n",
    "#pairs_df.to_csv(\"TK_Level1_negativePairs.csv\")"
   ]
  },
  {
   "cell_type": "code",
   "execution_count": null,
   "metadata": {},
   "outputs": [],
   "source": [
    "pairs_df"
   ]
  },
  {
   "cell_type": "code",
   "execution_count": null,
   "metadata": {},
   "outputs": [],
   "source": []
  }
 ],
 "metadata": {
  "kernelspec": {
   "display_name": "Python 3",
   "language": "python",
   "name": "python3"
  },
  "language_info": {
   "codemirror_mode": {
    "name": "ipython",
    "version": 3
   },
   "file_extension": ".py",
   "mimetype": "text/x-python",
   "name": "python",
   "nbconvert_exporter": "python",
   "pygments_lexer": "ipython3",
   "version": "3.6.5"
  }
 },
 "nbformat": 4,
 "nbformat_minor": 2
}
